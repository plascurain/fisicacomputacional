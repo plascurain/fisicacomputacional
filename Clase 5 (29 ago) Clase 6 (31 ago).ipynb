{
 "cells": [
  {
   "cell_type": "markdown",
   "metadata": {},
   "source": [
    "# Clase 5: Métodos de integración\n"
   ]
  },
  {
   "cell_type": "markdown",
   "metadata": {},
   "source": [
    "Un mejor integrador es: \n",
    "\n"
   ]
  },
  {
   "cell_type": "markdown",
   "metadata": {},
   "source": [
    "$$\n",
    "\\vec y_{n+1} = \\vec y_n + h \\vec f (x_n,y_n) + \\frac{1}{2} h^2 \\left( \\frac{\\partial \\vec f }{\\partial x} + \\vec J (\\vec f (x_n,y_n)) \\cdot \\vec f (x_n,y_n) \\right) \\dots (1)\n",
    "$$"
   ]
  },
  {
   "cell_type": "markdown",
   "metadata": {},
   "source": [
    "Donde lo que está entre paréntesis es el  método con Jacobianos y el segundo término es parte de Euler"
   ]
  },
  {
   "cell_type": "markdown",
   "metadata": {},
   "source": [
    "### Aquí van cosas del apunte de Randi sobre por qué se puede hacer Taylor y tiene sentido"
   ]
  },
  {
   "cell_type": "markdown",
   "metadata": {},
   "source": [
    "Y ahora sí, sabiendo lo anterior (lo del apunte de Randi sobre Taylor)"
   ]
  },
  {
   "cell_type": "markdown",
   "metadata": {},
   "source": [
    "$$\n",
    "\\int_{-h}^{h}f(x) dx = \\frac{h}{6} \\left( -f_{i+2} + 4f_{i+1} +4f_{i-1} -f_{i-2}  \\right) + \\frac{h}{9} \\left( f_{i+2} - f_{i+1} - f_{i-1} + f_{i+2} \\right) + \\mathcal{O}(h^3)\n",
    "$$"
   ]
  },
  {
   "cell_type": "markdown",
   "metadata": {},
   "source": [
    "$$\n",
    "\\int_{-h}^{h} f(x) dx = \\frac{h}{9} \\left( -2f_{i+2} + 11f_{i+1} +11f_{i-1} -2f_{i-2} \\right) + \\mathcal{O}(h^3)\n",
    "$$"
   ]
  },
  {
   "cell_type": "markdown",
   "metadata": {},
   "source": [
    "No hay método de Runge Kutta de tercer orden\n",
    "\n",
    "Existe una cosa maravillosa que se llama \"numerical recipes\" que es la gloria \n",
    "$$\n",
    "\\circlearrowright \\spadesuit\n",
    "$$"
   ]
  },
  {
   "cell_type": "markdown",
   "metadata": {},
   "source": [
    "Para obtener un mejor resultado en la integración es mejor utilizar una aproximación de segundo orden y con varias variables. Como vimos en clase: \n",
    "\n",
    "$$\n",
    "\\vec y_{n+1} = \\vec y_n + h \\vec f + \\frac{1}{2}h^2 \\left(\\frac{\\partial \\vec f }{\\partial x} + \\mathbb{J} \\vec f \\right)\n",
    "$$\n",
    "\n",
    "Donde $f$ es $f(x_0,\\vec y_0)$ , $\\mathbb{J}$ es el Jacobiano de $f$ evaluado en $(x_0, \\vec y_0)$, y el orden de error que es $\\mathcal{O} (h^2)$.\n",
    "\n",
    "Esta es la misma ecuación que (1) pero el Jacobiano está condensado en $\\mathbb{J}$ . "
   ]
  },
  {
   "cell_type": "code",
   "execution_count": 2,
   "metadata": {
    "collapsed": false
   },
   "outputs": [],
   "source": [
    "from pylab import *\n",
    "%matplotlib inline"
   ]
  },
  {
   "cell_type": "markdown",
   "metadata": {},
   "source": [
    "Vamos a definir la función y se llama \"integra2\" porque estamos pensando en la que es a segundo orden y vamos a resolver el oscilador armónico."
   ]
  },
  {
   "cell_type": "code",
   "execution_count": 89,
   "metadata": {
    "collapsed": false
   },
   "outputs": [],
   "source": [
    "def integra2(ec,d_ec,p_ini,x,h=0.1):\n",
    "    tiempos = arange(x[0],x[1]+h,h)\n",
    "    sol = zeros((len(tiempos),len(p_ini)))\n",
    "    sol[0,:] = p_ini\n",
    "    for i in xrange(len(tiempos)-1): #xrange ocupa menos memoria para cualquier for que valga mas de 100\n",
    "        f=ec(sol[i,:],tiempos[i])\n",
    "        df,jac=d_ec(sol[i,:],tiempos[i])\n",
    "        sol[i+1,:]=sol[i,:]+h*f+(0.5*h*h*(df+dot(jac,f)))\n",
    "    return tiempos,sol\n",
    "\n",
    "def prueba(y,t):\n",
    "     return array([y[1],-y[0]])\n",
    "\n",
    "def d_prueba(y,t):\n",
    "    return array([0,0]),array([[0,1],[-1,0]])\n",
    "t,y=integra2(prueba,d_prueba,[1,0],[0,10],0.1) #entre mas pequeño sea el paso de integración, mas se van a pegar\n",
    "#plot(y[:,0],y[:,1])\n",
    "#print t,y\n",
    "#plot(t,y[:,0],t,cos(t))\n"
   ]
  },
  {
   "cell_type": "markdown",
   "metadata": {},
   "source": [
    "Cuando sólo teníamos \"sol[i+1,:]=sol[i,:]+h*f\" (Euler) teníamos que integrar con mas pasos para que las cosas se pegaran, pero si a eso le agregamos el término \"+(0.5*h*h*(df+dot(jac,f)))\" (nuestro método cool) no necesitamos integrar con muchos pasos para que la solución sea precisa. "
   ]
  },
  {
   "cell_type": "code",
   "execution_count": 90,
   "metadata": {
    "collapsed": false
   },
   "outputs": [
    {
     "data": {
      "text/plain": [
       "[<matplotlib.lines.Line2D at 0x11954d610>,\n",
       " <matplotlib.lines.Line2D at 0x11954d810>]"
      ]
     },
     "execution_count": 90,
     "metadata": {},
     "output_type": "execute_result"
    },
    {
     "data": {
      "image/png": "[encoded data removed]",
      "text/plain": [
       "<matplotlib.figure.Figure at 0x1194f6310>"
      ]
     },
     "metadata": {},
     "output_type": "display_data"
    }
   ],
   "source": [
    "plot(t,y[:,0],t,cos(t)) #con muchas iteraciones"
   ]
  },
  {
   "cell_type": "code",
   "execution_count": 91,
   "metadata": {
    "collapsed": false
   },
   "outputs": [
    {
     "data": {
      "text/plain": [
       "[<matplotlib.lines.Line2D at 0x1198867d0>]"
      ]
     },
     "execution_count": 91,
     "metadata": {},
     "output_type": "execute_result"
    },
    {
     "data": {
      "image/png": "[encoded data removed]",
      "text/plain": [
       "<matplotlib.figure.Figure at 0x119567f50>"
      ]
     },
     "metadata": {},
     "output_type": "display_data"
    }
   ],
   "source": [
    "plot(y[:,0],y[:,1]) #espacio fase"
   ]
  },
  {
   "cell_type": "markdown",
   "metadata": {},
   "source": [
    "### Paréntesis de Rich sobre matrices y \"arrays\""
   ]
  },
  {
   "cell_type": "code",
   "execution_count": 11,
   "metadata": {
    "collapsed": false
   },
   "outputs": [
    {
     "name": "stdout",
     "output_type": "stream",
     "text": [
      "[[ 0.  0.  0.  0.  0.  0.]\n",
      " [ 0.  0.  0.  0.  0.  0.]]\n",
      "[[ 0.  9.  0.  0.  0.  0.]\n",
      " [ 0.  3.  0.  0.  0.  0.]]\n",
      "[ 9.  3.]\n",
      "[ 0.  3.  0.  0.  0.  0.]\n",
      "<type 'numpy.ndarray'>\n"
     ]
    }
   ],
   "source": [
    "x=zeros((2,6))\n",
    "print x\n",
    "x[1,1]=3\n",
    "x[0,1]=9\n",
    "print x\n",
    "print x[:,1] #los : te imprime todo lo que está en esa coordenada (todo lo que está en esta región)\n",
    "print x[1,:]\n",
    "print type(x[1,:]) #quiere decir que se comporta como un arreglo"
   ]
  },
  {
   "cell_type": "code",
   "execution_count": 9,
   "metadata": {
    "collapsed": false
   },
   "outputs": [
    {
     "name": "stdout",
     "output_type": "stream",
     "text": [
      "[2 6] [2, 6]\n",
      "[ 4 12] [2, 6, 2, 6]\n"
     ]
    }
   ],
   "source": [
    "a=array([2,6])\n",
    "b=[2,6]\n",
    "print a,b\n",
    "print 2*a,2*b"
   ]
  },
  {
   "cell_type": "code",
   "execution_count": 13,
   "metadata": {
    "collapsed": false
   },
   "outputs": [
    {
     "name": "stdout",
     "output_type": "stream",
     "text": [
      "[[1 0]\n",
      " [0 1]] 1\n",
      "[[1 0]\n",
      " [0 1]]\n",
      "[[2 0]\n",
      " [0 6]]\n",
      "[[2 6]] 1\n"
     ]
    }
   ],
   "source": [
    "A = array([[1,0],[0,1]])\n",
    "B = matrix([[1,0],[0,1]]) \n",
    "print A,A[0,0]\n",
    "print B\n",
    "print A*b\n",
    "print dot(B,b), len(dot(B,b))"
   ]
  },
  {
   "cell_type": "markdown",
   "metadata": {},
   "source": [
    "Mala idea hacer el producto punto de matriz con vector porque se pone tonto... mejor definir arreglos y hacerlo (porque te da los pasos intermedios). Lo que sí se debe hacer con el \"dot\" es hacer una matriz como arreglo y un vector como arreglo, así te va a dar algo de dos dimensiones. \n",
    "\n",
    "Necesitamos marcar este tipo de matrices para que después nuestro algoritmo no depende de la longitud de esas cosas... "
   ]
  },
  {
   "cell_type": "code",
   "execution_count": 16,
   "metadata": {
    "collapsed": false
   },
   "outputs": [
    {
     "name": "stdout",
     "output_type": "stream",
     "text": [
      "1 2 3 4\n",
      "[[ 6 14]\n",
      " [18 28]]\n"
     ]
    }
   ],
   "source": [
    "A = array([[1,2],[3,4]])\n",
    "a = array([6,7])\n",
    "print A[0,0],A[0,1],A[1,0],A[1,1]\n",
    "print A*a"
   ]
  },
  {
   "cell_type": "code",
   "execution_count": 20,
   "metadata": {
    "collapsed": false
   },
   "outputs": [
    {
     "name": "stdout",
     "output_type": "stream",
     "text": [
      "[20 46]\n",
      "46\n"
     ]
    }
   ],
   "source": [
    "print dot(A,a) #\"dot\" opera bien aquí!!! hurra\n",
    "print dot(A,a)[1] #si quiero imprimir las coordenadas"
   ]
  },
  {
   "cell_type": "markdown",
   "metadata": {},
   "source": [
    "\n",
    "\n",
    "En esta cosa están volteados renglones y columnas... que $\\mathfrak{M}$$\\mathfrak{O}$$\\mathfrak{L}$$\\mathfrak{E}$$\\mathfrak{s}$$\\mathfrak{T}$$\\mathfrak{O}$ \n",
    "\n",
    "Escuchar la canción de \"back star\" de Bowie (en el último disco)\n",
    "\n",
    "\"matrix\" es muy práctico cuando quieres hacer operaciones con matrices (como sumar) porque no es un arreglo bidimensional y no funciona como las matrices que nosotros conocemos como matrices... Python hace lo que quiere \n",
    "\n",
    "### Fin del paréntesis"
   ]
  },
  {
   "cell_type": "code",
   "execution_count": null,
   "metadata": {
    "collapsed": true
   },
   "outputs": [],
   "source": []
  }
 ],
 "metadata": {
  "anaconda-cloud": {},
  "kernelspec": {
   "display_name": "Python [Root]",
   "language": "python",
   "name": "Python [Root]"
  },
  "language_info": {
   "codemirror_mode": {
    "name": "ipython",
    "version": 2
   },
   "file_extension": ".py",
   "mimetype": "text/x-python",
   "name": "python",
   "nbconvert_exporter": "python",
   "pygments_lexer": "ipython2",
   "version": "2.7.12"
  }
 },
 "nbformat": 4,
 "nbformat_minor": 0
}
