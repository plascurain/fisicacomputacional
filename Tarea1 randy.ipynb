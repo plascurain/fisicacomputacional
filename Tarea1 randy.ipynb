{
 "cells": [
  {
   "cell_type": "code",
   "execution_count": 46,
   "metadata": {
    "collapsed": false
   },
   "outputs": [],
   "source": [
    "from pylab import*\n",
    "%matplotlib inline"
   ]
  },
  {
   "cell_type": "code",
   "execution_count": 47,
   "metadata": {
    "collapsed": false
   },
   "outputs": [],
   "source": [
    "from maria_libreria1 import factorial_super as fac"
   ]
  },
  {
   "cell_type": "code",
   "execution_count": 49,
   "metadata": {
    "collapsed": false
   },
   "outputs": [],
   "source": [
    "def y1(x,w):\n",
    "    y=0\n",
    "    for n in range(w):\n",
    "        p=2*n+1\n",
    "        y+= (((-1)**n)*(x**p)/fac(p))\n",
    "    return y"
   ]
  },
  {
   "cell_type": "code",
   "execution_count": 50,
   "metadata": {
    "collapsed": true
   },
   "outputs": [],
   "source": [
    "def y2(x,w):\n",
    "    y=0\n",
    "    for n in range(w):\n",
    "        p=2*n\n",
    "        y+=(((-1)**n)*(x**p)/fac(p))\n",
    "    return y"
   ]
  },
  {
   "cell_type": "code",
   "execution_count": 64,
   "metadata": {
    "collapsed": true
   },
   "outputs": [],
   "source": [
    "def sen(num, orden):\n",
    "    num=num%(2*pi)\n",
    "    if num < (pi/4):\n",
    "        x = num\n",
    "        y1(x,orden)\n",
    "    elif (pi/4) <= num < (2*pi/4):\n",
    "        z = num - (pi/2)\n",
    "        y= y2(z,orden)\n",
    "    elif (2*pi/4) <= num < (3*pi/4):\n",
    "        z = num - (pi/2)\n",
    "        y= y2(z,orden)\n",
    "    elif (3*pi/4) <= num < (pi):\n",
    "        x = pi-num\n",
    "        y= y1(x,orden)\n",
    "    elif (pi) <= num < (5*pi/4):\n",
    "        x = -(num-pi)\n",
    "        y= y1(x,orden)\n",
    "    elif (5*pi/4) <= num < (6*pi/4):\n",
    "        z = num-(3*pi/2)\n",
    "        y= -y2(z,orden)\n",
    "    elif (6*pi/4) <= num < (7*pi/4):\n",
    "        z = num-(3*pi/2)\n",
    "        y= -y2(z,orden)\n",
    "    elif (7*pi/4) <= num < (2*pi):\n",
    "        x = num-2*pi\n",
    "        y = y1(x,orden)\n",
    "    return y"
   ]
  }
 ],
 "metadata": {
  "kernelspec": {
   "display_name": "Python 2",
   "language": "python",
   "name": "python2"
  },
  "language_info": {
   "codemirror_mode": {
    "name": "ipython",
    "version": 2
   },
   "file_extension": ".py",
   "mimetype": "text/x-python",
   "name": "python",
   "nbconvert_exporter": "python",
   "pygments_lexer": "ipython2",
   "version": "2.7.6"
  }
 },
 "nbformat": 4,
 "nbformat_minor": 0
}
