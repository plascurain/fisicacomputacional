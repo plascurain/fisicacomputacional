{
 "cells": [
  {
   "cell_type": "markdown",
   "metadata": {},
   "source": [
    "# ¿Cómo mejorar el método de integración?"
   ]
  },
  {
   "cell_type": "markdown",
   "metadata": {},
   "source": [
    "En el método de Euler para resolver ecuaciones diferenciales escribimos la función mediante una serie de Taylor truncada a segundo orden. Una opción para aumentar la precisión del algoritmo es aumentar el número de términos utilizados en la serie.\n",
    "\n",
    "Pero... ¿Qué tan factible es hacer eso?\n",
    "\n",
    "Inicialmente se tenía que:\n"
   ]
  },
  {
   "cell_type": "markdown",
   "metadata": {},
   "source": [
    "$$\n",
    "Y_{n+1}=y_n+hf(x_n,y_n)\n",
    "$$"
   ]
  },
  {
   "cell_type": "markdown",
   "metadata": {},
   "source": [
    "Lo cual proviene de:"
   ]
  },
  {
   "cell_type": "markdown",
   "metadata": {},
   "source": [
    "$$\n",
    "\\int \\limits_{x_n}^{x_{n+1}} y'(x)dx=\\int \\limits_{x_n}^{x_{n+1}} f(x,y)dx\n",
    "$$"
   ]
  },
  {
   "cell_type": "markdown",
   "metadata": {},
   "source": [
    "$$y(x_{n+1})=y(x_n)+\\int \\limits_{x_n}^{x_{n+1}} f(x,y)dx$$"
   ]
  },
  {
   "cell_type": "markdown",
   "metadata": {},
   "source": [
    "$$y_{n+1}=y_n+ \\int \\limits_{x_n}^{x_{n+1}} f(x,y)dx \\ \\ \\ \\ \\ \\dots(a)$$"
   ]
  },
  {
   "cell_type": "markdown",
   "metadata": {},
   "source": [
    "$$f(x,y)=f(x_n,y_n)+f'(x_n,y_x)h+f''(x_n,y_n)\\frac{h^2}{2!}+O(h^3)$$"
   ]
  },
  {
   "cell_type": "markdown",
   "metadata": {},
   "source": [
    "$$f(x,y)\\simeq f(x_n,y_n) + O(h)$$"
   ]
  },
  {
   "cell_type": "markdown",
   "metadata": {},
   "source": [
    "Una opción es:"
   ]
  },
  {
   "cell_type": "markdown",
   "metadata": {},
   "source": [
    "$$y_{n+1}=y_n+hf(x_n,y_n)+O(h^2)$$"
   ]
  },
  {
   "cell_type": "markdown",
   "metadata": {},
   "source": [
    "Pero una mejor opción es:"
   ]
  },
  {
   "cell_type": "markdown",
   "metadata": {},
   "source": [
    "$$f(x,y) \\simeq f(x_n,y_n)+f'(x_n,y_n)h+O(h^2)$$"
   ]
  },
  {
   "cell_type": "markdown",
   "metadata": {},
   "source": [
    "$$\\frac{d}{dx}f(x,y)=\\frac{\\partial f}{\\partial x}+\\frac{\\partial f}{\\partial y}\\frac{dy}{dx}+\\frac{\\partial f}{\\partial y}f$$"
   ]
  },
  {
   "cell_type": "markdown",
   "metadata": {},
   "source": [
    "Con ésta derivación anterior podemos describir de una mejor manera la expresión (*), quedando como:"
   ]
  },
  {
   "cell_type": "markdown",
   "metadata": {},
   "source": [
    "$$\n",
    "y_n+1= y_n+hf+\\frac{h^2}{2} \\left( \\frac{\\partial f}{\\partial x} +\\frac{\\partial f}{\\partial y}f \\right) + O(h^3)\n",
    "$$\n",
    "\n",
    "donde $f$ y sus parciales están evaluadas en $f(x_n,y_n)$"
   ]
  },
  {
   "cell_type": "markdown",
   "metadata": {},
   "source": [
    "OBS: el tercer término proviene del hecho de que las funciones están evaluadas en $x_n,y_n$ y por lo tanto es una constante "
   ]
  },
  {
   "cell_type": "code",
   "execution_count": 28,
   "metadata": {
    "collapsed": true
   },
   "outputs": [],
   "source": [
    "from pylab import*\n",
    "%matplotlib inline"
   ]
  },
  {
   "cell_type": "markdown",
   "metadata": {},
   "source": [
    "### Entonces, el código de la ecuación original era:"
   ]
  },
  {
   "cell_type": "code",
   "execution_count": 29,
   "metadata": {
    "collapsed": true
   },
   "outputs": [],
   "source": [
    "def euler_1orden(ec_diff,p_ini,t_final,h=0.1):\n",
    "    tiempo = arange(0,t_final+h, h)\n",
    "    y = zeros(len(tiempo))\n",
    "    y[0]= p_ini\n",
    "    for i in range(len(tiempo)-1):\n",
    "        y[i+1] = y[i] + h*ec_diff(y[i],tiempo[i])\n",
    "    return tiempo,y"
   ]
  },
  {
   "cell_type": "markdown",
   "metadata": {},
   "source": [
    "### Y el código de nuestra nueva ecuación es:"
   ]
  },
  {
   "cell_type": "code",
   "execution_count": 30,
   "metadata": {
    "collapsed": false
   },
   "outputs": [],
   "source": [
    "def euler_2orden(ec_diff,p_ini,t_final,ec_jac,h=0.1):\n",
    "    tiempo = arange(0,t_final+h, h)\n",
    "    y = zeros(len(tiempo))\n",
    "    y[0]= p_ini\n",
    "    for i in range(len(tiempo)-1):\n",
    "        y[i+1] = y[i] + h*ec_diff(y[i],tiempo[i])\n",
    "        y[i+1] += 0.5*h*h*ec_jac(y[i],tiempo[i])[0]\n",
    "        y[i+1] += 0.5*h*h*ec_jac(y[i],tiempo[i])[1]*ec_diff(y[i],tiempo[i])\n",
    "    return tiempo,y"
   ]
  },
  {
   "cell_type": "markdown",
   "metadata": {},
   "source": [
    "### Vamos a probar que tanto mejoro nuestro código!!!"
   ]
  },
  {
   "cell_type": "code",
   "execution_count": 31,
   "metadata": {
    "collapsed": true
   },
   "outputs": [],
   "source": [
    "def ec_1(y,x):\n",
    "    return x*sin(y)\n",
    "\n",
    "def d_ec_1(y,x):\n",
    "    return sin(y),x*cos(y)"
   ]
  },
  {
   "cell_type": "code",
   "execution_count": 60,
   "metadata": {
    "collapsed": false,
    "scrolled": true
   },
   "outputs": [
    {
     "data": {
      "image/png": "[encoded data removed]",
      "text/plain": [
       "<matplotlib.figure.Figure at 0xafb5a10>"
      ]
     },
     "metadata": {},
     "output_type": "display_data"
    }
   ],
   "source": [
    "y_euler_01=euler_1orden(ec_1,1,4,0.1) \n",
    "y_euler_02=euler_2orden(ec_1,1,4.,d_ec_1,0.1)\n",
    "\n",
    "plot(y_euler_01[0],y_euler_01[1],label='Euler 1er orden')\n",
    "plot(y_euler_02[0],y_euler_02[1],label='Euler 2do orden')\n",
    "legend()\n",
    "show()"
   ]
  },
  {
   "cell_type": "markdown",
   "metadata": {},
   "source": [
    "La diferencia entre ambas soluciones es visible únicamente para valores grandes de h... osea que no "
   ]
  },
  {
   "cell_type": "markdown",
   "metadata": {},
   "source": [
    "### Y sobre la precisión con h en cada caso?"
   ]
  },
  {
   "cell_type": "markdown",
   "metadata": {},
   "source": [
    "#### Primer orden"
   ]
  },
  {
   "cell_type": "code",
   "execution_count": 59,
   "metadata": {
    "collapsed": false,
    "scrolled": true
   },
   "outputs": [
    {
     "data": {
      "image/png": "[encoded data removed]",
      "text/plain": [
       "<matplotlib.figure.Figure at 0xaf90390>"
      ]
     },
     "metadata": {},
     "output_type": "display_data"
    }
   ],
   "source": [
    "h=[1,1.,0.1,0.001,0.0001,0.00001]\n",
    "for s in h:\n",
    "    y_euler_01=euler_1orden(ec_1,1,4.,s)\n",
    "    plot(y_euler_01[0],y_euler_01[1])#,label'h= 't)"
   ]
  },
  {
   "cell_type": "markdown",
   "metadata": {},
   "source": [
    "#### Segundo orden"
   ]
  },
  {
   "cell_type": "code",
   "execution_count": 58,
   "metadata": {
    "collapsed": false
   },
   "outputs": [
    {
     "data": {
      "image/png": "[encoded data removed]",
      "text/plain": [
       "<matplotlib.figure.Figure at 0xbb39670>"
      ]
     },
     "metadata": {},
     "output_type": "display_data"
    }
   ],
   "source": [
    "h=[1, 1.,0.1,0.001,0.0001,0.00001]\n",
    "for s in h:\n",
    "    y_euler_02=euler_2orden(ec_1,1,4.,d_ec_1,s)\n",
    "    plot(y_euler_02[0],y_euler_02[1])#,label'h= 't)"
   ]
  },
  {
   "cell_type": "markdown",
   "metadata": {},
   "source": [
    "NOTA: para funciones multivariables la ec. de euler a segundo orden es de la forma:"
   ]
  },
  {
   "cell_type": "markdown",
   "metadata": {},
   "source": [
    "$$\n",
    "y_{n+1}=y_n+hf(x_n,y_n)+\\frac{h^2}{2}\\left( \\frac{\\partial f(x_n,y_n)}{\\partial x} \\right)+J(f(x,y_n)f(x_n,y_n))\n",
    "$$"
   ]
  }
 ],
 "metadata": {
  "kernelspec": {
   "display_name": "Python 2",
   "language": "python",
   "name": "python2"
  },
  "language_info": {
   "codemirror_mode": {
    "name": "ipython",
    "version": 2
   },
   "file_extension": ".py",
   "mimetype": "text/x-python",
   "name": "python",
   "nbconvert_exporter": "python",
   "pygments_lexer": "ipython2",
   "version": "2.7.6"
  }
 },
 "nbformat": 4,
 "nbformat_minor": 0
}
