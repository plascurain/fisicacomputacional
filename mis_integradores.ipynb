{
 "cells": [
  {
   "cell_type": "code",
   "execution_count": 1,
   "metadata": {
    "collapsed": true
   },
   "outputs": [],
   "source": [
    "from pylab import *\n",
    "%matplotlib inline"
   ]
  },
  {
   "cell_type": "markdown",
   "metadata": {},
   "source": [
    "## Método de \"integra2\""
   ]
  },
  {
   "cell_type": "code",
   "execution_count": 5,
   "metadata": {
    "collapsed": true
   },
   "outputs": [],
   "source": [
    "def integra2(ec,d_ec,p_ini,x,h=0.1):\n",
    "    tiempos = arange(x[0],x[1]+h,h)\n",
    "    sol = zeros((len(tiempos),len(p_ini)))\n",
    "    sol[0,:] = p_ini\n",
    "    for i in xrange(len(tiempos)-1): #xrange ocupa menos memoria para cualquier for que valga mas de 100\n",
    "        f=ec(sol[i,:],tiempos[i])\n",
    "        df,jac=d_ec(sol[i,:],tiempos[i])\n",
    "        sol[i+1,:]=sol[i,:]+h*f+(0.5*h*h*(df+dot(jac,f)))\n",
    "    return tiempos,sol"
   ]
  },
  {
   "cell_type": "markdown",
   "metadata": {},
   "source": [
    "## Método de Runge Kutta de segundo orden"
   ]
  },
  {
   "cell_type": "code",
   "execution_count": 6,
   "metadata": {
    "collapsed": true
   },
   "outputs": [],
   "source": [
    "def rk2(ec,p_ini,x,h=0.1):\n",
    "    tiempos = arange(x[0],x[1]+h,h)\n",
    "    sol = zeros((len(tiempos),len(p_ini)))\n",
    "    sol[0,:] = p_ini\n",
    "    for i in xrange(len(tiempos)-1): \n",
    "        k = h*ec(sol[i,:],tiempos[i])\n",
    "        f = ec(sol[i,:]+0.5*k,tiempos[i]+0.5*h) #la ec.dif evaluada en la primera entrada y tiempos\n",
    "        sol[i+1,:]=sol[i,:]+h*f\n",
    "    return tiempos,sol\n"
   ]
  },
  {
   "cell_type": "markdown",
   "metadata": {
    "collapsed": true
   },
   "source": [
    "## Método de Runge Kutta de cuarto orden"
   ]
  },
  {
   "cell_type": "markdown",
   "metadata": {},
   "source": [
    "$y_{n+1} = y_n +\\frac{h}{6}(k_1+2k_2+2k_3+k_4)$\n",
    "\n",
    "$k_1=f(x_n,y_n)$\n",
    "\n",
    "$k_2= f(x_n+\\frac{h}{2},y_n+\\frac{h}{2}k_1)$\n",
    "\n",
    "$k_3 = f(x_n +\\frac{h}{2},y_n + \\frac{h}{2}k_2)$\n",
    "\n",
    "$k_4 = f(x_n +h,y_n + hk_3)$"
   ]
  },
  {
   "cell_type": "code",
   "execution_count": 7,
   "metadata": {
    "collapsed": true
   },
   "outputs": [],
   "source": [
    "def rk4(ec,p_ini,x,h=0.1):\n",
    "    tiempos = arange(x[0],x[1]+h,h)\n",
    "    sol = zeros((len(tiempos),len(p_ini)))\n",
    "    sol[0,:] = p_ini\n",
    "    for i in xrange(len(tiempos)-1): \n",
    "        k1 = ec(sol[i,:],tiempos[i])\n",
    "        k2 = ec(sol[i,:]+0.5*h*k1,tiempos[i]+0.5*h) \n",
    "        k3 = ec(sol[i,:]+0.5*h*k2,tiempos[i]+0.5*h) \n",
    "        k4 = ec(sol[i,:]+h*k3,tiempos[i]+h) \n",
    "        sol[i+1,:]=sol[i,:]+(h/6.)*(k1+2*k2+2*k3+k4) \n",
    "    return tiempos,sol"
   ]
  },
  {
   "cell_type": "code",
   "execution_count": null,
   "metadata": {
    "collapsed": true
   },
   "outputs": [],
   "source": []
  }
 ],
 "metadata": {
  "anaconda-cloud": {},
  "kernelspec": {
   "display_name": "Python [Root]",
   "language": "python",
   "name": "Python [Root]"
  },
  "language_info": {
   "codemirror_mode": {
    "name": "ipython",
    "version": 2
   },
   "file_extension": ".py",
   "mimetype": "text/x-python",
   "name": "python",
   "nbconvert_exporter": "python",
   "pygments_lexer": "ipython2",
   "version": "2.7.12"
  }
 },
 "nbformat": 4,
 "nbformat_minor": 0
}
