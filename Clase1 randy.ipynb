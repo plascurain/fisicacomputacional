{
 "cells": [
  {
   "cell_type": "markdown",
   "metadata": {},
   "source": [
    "# CLASE 1"
   ]
  },
  {
   "cell_type": "code",
   "execution_count": 2,
   "metadata": {
    "collapsed": true
   },
   "outputs": [],
   "source": [
    "\"\"\"\"El asterisco es para decir que queremos importar todo\"\"\"\"\n",
    "from pylab import*\n",
    "%matplotlib inline"
   ]
  },
  {
   "cell_type": "markdown",
   "metadata": {},
   "source": [
    "NOTA1 Python no sabe cuanto es el seno de pi. \n",
    "A continuación la triste realidad:"
   ]
  },
  {
   "cell_type": "code",
   "execution_count": 3,
   "metadata": {
    "collapsed": false
   },
   "outputs": [
    {
     "data": {
      "text/plain": [
       "1.2246467991473532e-16"
      ]
     },
     "execution_count": 3,
     "metadata": {},
     "output_type": "execute_result"
    }
   ],
   "source": [
    "sin(pi)"
   ]
  },
  {
   "cell_type": "markdown",
   "metadata": {},
   "source": [
    "NOTA2 Este error de -16 digitos será importante cuando nuestro programa tenga muchas iteraciones."
   ]
  },
  {
   "cell_type": "markdown",
   "metadata": {},
   "source": [
    "## primer función: seno"
   ]
  },
  {
   "cell_type": "markdown",
   "metadata": {},
   "source": [
    "Intento1 para definir una función"
   ]
  },
  {
   "cell_type": "code",
   "execution_count": 54,
   "metadata": {
    "collapsed": false
   },
   "outputs": [],
   "source": [
    "def mi_seno(x):\n",
    "    \n",
    "    #Es útil trabajar en módulo 2pi porque mi serie de taylor \n",
    "    #pierde precisión conforme mis números son más grandes.\n",
    "    x= x%(2*pi)\n",
    "    print (\"El valor original es equivalente a: \"+str(x)+\" módulo 2pi\")\n",
    "    \n",
    "    #También queremos que nos diga en que intervalo de pi medios \n",
    "    #está el número del que quiero calcular el seno.\n",
    "    if x<=(pi/2):\n",
    "        print (str(x)+\" está en el intervalo 1\")\n",
    "    elif (pi/2)<=x<=pi:\n",
    "        print (str(x)+\" está en el intervalo 2\")\n",
    "        x=pi-x\n",
    "    elif pi<=x<=(3*pi/2):\n",
    "        print (str(x)+\" está en el intervalo 3\")\n",
    "        x=-(x-pi)\n",
    "    else:\n",
    "        print (str(x)+\" está en el intervalo 4\")\n",
    "        x=x-2*pi\n",
    "    \n",
    "    #Estamos usando serie de taylor hasta orden 9 para definir al seno.\n",
    "    y= x - (x**3/6.) + (x**5/120.) - (x**7/5040.) + (x**9/362880.)\n",
    "    return \"La función seno con ese argumento es: \"+ str(y)"
   ]
  },
  {
   "cell_type": "code",
   "execution_count": 55,
   "metadata": {
    "collapsed": false
   },
   "outputs": [
    {
     "name": "stdout",
     "output_type": "stream",
     "text": [
      "El valor original es equivalente a: 5.7079934123 módulo 2pi\n",
      "5.7079934123 está en el intervalo 4\n"
     ]
    },
    {
     "data": {
      "text/plain": [
       "'La funci\\xc3\\xb3n seno con ese argumento es: -0.543995817431'"
      ]
     },
     "execution_count": 55,
     "metadata": {},
     "output_type": "execute_result"
    }
   ],
   "source": [
    "mi_seno(345)"
   ]
  },
  {
   "cell_type": "code",
   "execution_count": 56,
   "metadata": {
    "collapsed": false
   },
   "outputs": [
    {
     "name": "stdout",
     "output_type": "stream",
     "text": [
      "El valor original es equivalente a: 1.57079632679 módulo 2pi\n",
      "1.57079632679 está en el intervalo 1\n"
     ]
    },
    {
     "data": {
      "text/plain": [
       "'La funci\\xc3\\xb3n seno con ese argumento es: 1.00000354258'"
      ]
     },
     "execution_count": 56,
     "metadata": {},
     "output_type": "execute_result"
    }
   ],
   "source": [
    "mi_seno(pi/2)"
   ]
  },
  {
   "cell_type": "markdown",
   "metadata": {},
   "source": [
    "## función 2: factorial"
   ]
  },
  {
   "cell_type": "markdown",
   "metadata": {},
   "source": [
    "Elegimos usar un for en vez de while porque sabemos cuando va a terminar el cálculo. :)"
   ]
  },
  {
   "cell_type": "code",
   "execution_count": 52,
   "metadata": {
    "collapsed": false
   },
   "outputs": [],
   "source": [
    "def factorial_super(n):\n",
    "    #estamos definiendo valor inicial\n",
    "    f=1\n",
    "\n",
    "    #definimos el conjunto en que va a correr mi índice.\n",
    "    conjunto = range(2,n+1)\n",
    "\n",
    "    #empezamos nuestro ciclo\n",
    "    for i in conjunto:\n",
    "        f=f*i\n",
    "    print \"el factorial es: \"+str(f)\n",
    "    #OBS: dentro del ciclo estamos escribiendo dos veces f, una adentro del ciclo for para\n",
    "    #ver cada iteración de mi ciclo, la segunda para obtener el resultado final."
   ]
  },
  {
   "cell_type": "code",
   "execution_count": 53,
   "metadata": {
    "collapsed": false
   },
   "outputs": [
    {
     "name": "stdout",
     "output_type": "stream",
     "text": [
      "el factorial es: 120\n"
     ]
    }
   ],
   "source": [
    "factorial_super(5)"
   ]
  },
  {
   "cell_type": "markdown",
   "metadata": {},
   "source": [
    "## improving mi_seno"
   ]
  },
  {
   "cell_type": "markdown",
   "metadata": {},
   "source": [
    "Ahora queremos usar la función factorial también :)"
   ]
  },
  {
   "cell_type": "code",
   "execution_count": null,
   "metadata": {
    "collapsed": true
   },
   "outputs": [],
   "source": [
    "def mi_seno2(x,orden):\n",
    "    \n",
    "    #Es útil trabajar en módulo 2pi porque mi serie de taylor \n",
    "    #pierde precisión conforme mis números son más grandes.\n",
    "    x= x%(2*pi)\n",
    "    print (\"El valor original es equivalente a: \"+str(x)+\" módulo 2pi\")\n",
    "    \n",
    "    #También queremos que nos diga en que intervalo de pi medios \n",
    "    #está el número del que quiero calcular el seno.\n",
    "    if x<=(pi/2):\n",
    "        print (str(x)+\" está en el intervalo 1\")\n",
    "    elif (pi/2)<=x<=pi:\n",
    "        print (str(x)+\" está en el intervalo 2\")\n",
    "        x=pi-x\n",
    "    elif pi<=x<=(3*pi/2):\n",
    "        print (str(x)+\" está en el intervalo 3\")\n",
    "        x=-(x-pi)\n",
    "    else:\n",
    "        print (str(x)+\" está en el intervalo 4\")\n",
    "        x=x-2*pi\n",
    "    \n",
    "    #Usaremos un for para hacer la serie de Taylor\n",
    "    for n in range(orden)\n",
    "        p=2*n+1\n",
    "        y+= ((-1)**n)*(x**p)/factorial_super(2*n+1))\n",
    "        #y += significa y = y + ....\n",
    "        \n",
    "    return \"La función seno con ese argumento es: \"+ str(y)"
   ]
  }
 ],
 "metadata": {
  "kernelspec": {
   "display_name": "Python 2",
   "language": "python",
   "name": "python2"
  },
  "language_info": {
   "codemirror_mode": {
    "name": "ipython",
    "version": 2
   },
   "file_extension": ".py",
   "mimetype": "text/x-python",
   "name": "python",
   "nbconvert_exporter": "python",
   "pygments_lexer": "ipython2",
   "version": "2.7.6"
  }
 },
 "nbformat": 4,
 "nbformat_minor": 0
}
