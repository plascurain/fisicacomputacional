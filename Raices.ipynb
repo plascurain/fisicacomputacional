{
 "cells": [
  {
   "cell_type": "markdown",
   "metadata": {},
   "source": [
    "# Encontrar las raíces de una función"
   ]
  },
  {
   "cell_type": "markdown",
   "metadata": {},
   "source": [
    "Sacar raices nos sirve para caracterizar trayectorias en un sistema dinámico. \n",
    "\n",
    "Existen dos métodos para encontrar raíces, el de bipartición y el de Newton. "
   ]
  },
  {
   "cell_type": "markdown",
   "metadata": {},
   "source": [
    "## Método de bipartición\n",
    "\n",
    "Lo que vamos haciendo es que tienes una función y vas haciendo promedios con otro punto en la función, entonces sacas el promedio entre esos dos puntos. Luego le preguntas a la computadora si el resultado está por arriba o por abajo del cero (que es lo que queremos), si está por arriba tomamos los puntos anteriores y hacemos el promedio entre ellos, si está por abajo tomamos el punto original y otro para hacer el promedio. \n",
    "\n",
    "Haciendo este método recursivo de sacar promedios y luego ver si está por arriba o por abajo n veces nos va a dar como resultado que: \n",
    "$$\n",
    "\\lim_{x\\to\\infty} x_n = x_r\n",
    "$$\n",
    "\n",
    "Donde $x_r$ es nuestra raíz :)"
   ]
  },
  {
   "cell_type": "code",
   "execution_count": 83,
   "metadata": {
    "collapsed": true
   },
   "outputs": [],
   "source": [
    "from pylab import *\n",
    "%matplotlib inline"
   ]
  },
  {
   "cell_type": "code",
   "execution_count": 97,
   "metadata": {
    "collapsed": false
   },
   "outputs": [],
   "source": [
    "def raiz_bip(func,x_i,x_d,err=1e-5): #(la función, punto ancla izquiero, punto ancla derecho, error)\n",
    "    raiz = 0.5*(x_i+x_d)\n",
    "    y_i,y_d = func(x_i),func(x_d)\n",
    "    #n=0\n",
    "    while abs(raiz-x_d) >=err and abs(y_i-y_d)>=err:\n",
    "        y_m = func(raiz)\n",
    "        if y_m == 0 :\n",
    "            print \"Rich sice: chin, le atiné a la raíz\" \n",
    "            break #por si le atina a la raíz... que es raro #PAULOHARÍA\n",
    "        if y_m*y_i < 0:\n",
    "            x_d = raiz\n",
    "        else:\n",
    "            x_i = raiz\n",
    "        raiz = 0.5*(x_i+x_d)\n",
    "        y_i,y_d = func(x_i),func(x_d)\n",
    "        #n += 1\n",
    "        #print \"paso\"   ,n,   \"raíz\"  ,raiz\n",
    "        \n",
    "    return raiz"
   ]
  },
  {
   "cell_type": "markdown",
   "metadata": {},
   "source": [
    "### Prueba con el seno"
   ]
  },
  {
   "cell_type": "code",
   "execution_count": 98,
   "metadata": {
    "collapsed": false
   },
   "outputs": [
    {
     "data": {
      "image/png": "[encoded data removed]",
      "text/plain": [
       "<matplotlib.figure.Figure at 0x1123b0fd0>"
      ]
     },
     "metadata": {},
     "output_type": "display_data"
    }
   ],
   "source": [
    "x=linspace(5,7)\n",
    "plot(x,sin(x))\n",
    "grid(True)\n",
    "show()"
   ]
  },
  {
   "cell_type": "code",
   "execution_count": 99,
   "metadata": {
    "collapsed": false
   },
   "outputs": [
    {
     "name": "stdout",
     "output_type": "stream",
     "text": [
      "La raíz es: 6.28318530723\n",
      "2pi         6.28318530718\n",
      "QUE IMPRESIONANTE !!\n",
      "El error es de: -4.79545292364e-11\n"
     ]
    }
   ],
   "source": [
    "print \"La raíz es:\", raiz_bip(sin,5,7,1e-10)\n",
    "print \"2pi        \",2*pi\n",
    "print \"QUE IMPRESIONANTE !!\"\n",
    "print \"El error es de:\" ,2*pi-raiz_bip(sin,5,7,1e-10)"
   ]
  },
  {
   "cell_type": "markdown",
   "metadata": {},
   "source": [
    "### Prueba con el coseno"
   ]
  },
  {
   "cell_type": "code",
   "execution_count": 95,
   "metadata": {
    "collapsed": false
   },
   "outputs": [
    {
     "data": {
      "image/png": "[encoded data removed]",
      "text/plain": [
       "<matplotlib.figure.Figure at 0x111300390>"
      ]
     },
     "metadata": {},
     "output_type": "display_data"
    }
   ],
   "source": [
    "x=linspace(0,4)\n",
    "plot(x,cos(x))\n",
    "grid(True)\n",
    "show()"
   ]
  },
  {
   "cell_type": "code",
   "execution_count": 96,
   "metadata": {
    "collapsed": false
   },
   "outputs": [
    {
     "name": "stdout",
     "output_type": "stream",
     "text": [
      "1.57079315186\n",
      "1.57079632679\n"
     ]
    }
   ],
   "source": [
    "print raiz_bip(cos,0,4)\n",
    "print 0.5*pi"
   ]
  },
  {
   "cell_type": "markdown",
   "metadata": {},
   "source": [
    "Por muy bonito que sea este algoritmo, no va a funcionar para las funciones que no crucen el cero (sean totalmente negativas o positivas)... porque le  va a hacer falta los puntos de signos intercambiados. Para eso, nos va a funcionar el método de Newton"
   ]
  },
  {
   "cell_type": "markdown",
   "metadata": {},
   "source": [
    "## Método de Newton\n"
   ]
  },
  {
   "cell_type": "code",
   "execution_count": null,
   "metadata": {
    "collapsed": true
   },
   "outputs": [],
   "source": []
  }
 ],
 "metadata": {
  "kernelspec": {
   "display_name": "Python [Root]",
   "language": "python",
   "name": "Python [Root]"
  },
  "language_info": {
   "codemirror_mode": {
    "name": "ipython",
    "version": 2
   },
   "file_extension": ".py",
   "mimetype": "text/x-python",
   "name": "python",
   "nbconvert_exporter": "python",
   "pygments_lexer": "ipython2",
   "version": "2.7.12"
  }
 },
 "nbformat": 4,
 "nbformat_minor": 0
}
