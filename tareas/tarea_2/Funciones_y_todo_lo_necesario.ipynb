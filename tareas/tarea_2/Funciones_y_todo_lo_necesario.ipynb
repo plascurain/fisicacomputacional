{
 "cells": [
  {
   "cell_type": "code",
   "execution_count": 9,
   "metadata": {
    "collapsed": true
   },
   "outputs": [],
   "source": [
    "from pylab import *\n",
    "%matplotlib inline"
   ]
  },
  {
   "cell_type": "markdown",
   "metadata": {},
   "source": [
    "# Problema 1 "
   ]
  },
  {
   "cell_type": "markdown",
   "metadata": {},
   "source": [
    "## Función de raíces por bipartición\n",
    "\n"
   ]
  },
  {
   "cell_type": "code",
   "execution_count": 10,
   "metadata": {
    "collapsed": true
   },
   "outputs": [],
   "source": [
    "def raiz_bip(func,x_izq,x_der, err=1e-5): #(la función, punto ancla izquiero, punto ancla derecho, error)\n",
    "    raiz = 0.5*(x_izq + x_der)\n",
    "    y_izq, y_der = func(x_izq), func(x_der)\n",
    "    n,nmax=0,500\n",
    "    \n",
    "    while abs(y_der) >=err and n <=nmax:\n",
    "        y_medio = func(raiz)\n",
    "        \n",
    "        #Por si le atina a la raíz... (que es algo raro pero puede suceder)\n",
    "        if y_medio == 0 :\n",
    "            print \"Le atiné a la raíz\" \n",
    "            break \n",
    "        \n",
    "        #Si no le atina a la raíz:\n",
    "        if y_medio*y_izq < 0:\n",
    "            x_der = raiz\n",
    "        else:\n",
    "            x_izq = raiz\n",
    "        \n",
    "        raiz = 0.5*(x_izq+x_der)\n",
    "        y_izq,y_der = func(x_izq),func(x_der)\n",
    "        n += 1 #Contador\n",
    "        \n",
    "    if n >= nmax or abs(func(raiz)) > err:\n",
    "        return False #\"No hay raiz en este intervalo\"\n",
    "    else:\n",
    "        return raiz"
   ]
  },
  {
   "cell_type": "code",
   "execution_count": 11,
   "metadata": {
    "collapsed": false
   },
   "outputs": [],
   "source": [
    "def todas_raices(funcion, intervalo, n , tol = 1e-6):\n",
    "    x = linspace(intervalo[0],intervalo[1],n)\n",
    "    raices = []\n",
    "    \n",
    "    for i in range(len(x)-1):\n",
    "        sol=raiz_bip(funcion, x[i], x[i+1],tol)\n",
    "        if sol != False:\n",
    "            raices.append(sol)\n",
    "        \n",
    "    return raices\n",
    "        "
   ]
  },
  {
   "cell_type": "markdown",
   "metadata": {
    "collapsed": true
   },
   "source": [
    "# Problema 2"
   ]
  },
  {
   "cell_type": "code",
   "execution_count": 12,
   "metadata": {
    "collapsed": true
   },
   "outputs": [],
   "source": [
    "def raiz_bip_2d(funcion,r_izq, r_der ,err=1e-5): #siguiendo la misma idea que \"raiz_bip\"\n",
    "    r_izq, r_der = array(r_izq) , array(r_der)   #puesto que ahora estamos en dos dimensiones, vamos a hacer\n",
    "                                                 #un array de los valores en el intervalo\n",
    "    raiz = 0.5*(r_izq+ r_der)     \n",
    "    func_izq, func_der = funcion(r_izq) , funcion(r_der)   \n",
    "\n",
    "    while abs(func_izq - func_der)>= err:\n",
    "        func_med = funcion(raiz)\n",
    "        if func_med==.0:\n",
    "            break\n",
    "        if func_izq*func_med < 0:\n",
    "            r_der = raiz\n",
    "        else:\n",
    "            r_izq = raiz\n",
    "        raiz = 0.5 *(r_izq + r_der)\n",
    "        func_izq , func_der = funcion(r_izq) , funcion(r_der)\n",
    "    return array(raiz)   "
   ]
  },
  {
   "cell_type": "code",
   "execution_count": 13,
   "metadata": {
    "collapsed": true
   },
   "outputs": [],
   "source": [
    "def todas_raices_2d(funcion, intervalo, tol=1e-2):  #donde: intervalo = [x_i,x_f,y_i,y_f]\n",
    "    x = arange(intervalo[0],intervalo[1]+tol, tol)\n",
    "    y = arange(intervalo[2],intervalo[3]+tol, tol)\n",
    "    raices_x = []  #dejamos abierto el tamaño del array porque no sabemos cuantas raices va a encontrar\n",
    "    raices_y = []\n",
    "    \n",
    "    for i in xrange(len(x)-1):      #estos dos for son para barrer primero la funcion en los valores de X y despues\n",
    "                                    # con uno fijo, barrer los de Y. \n",
    "        for j in xrange(len(y)-1):\n",
    "            r_izq = [x[i], y[j]]\n",
    "            r_der = [x[i], y[j+1]]\n",
    "            f_izq, f_der = funcion(r_izq) , funcion(r_der)\n",
    "            \n",
    "            if f_izq*f_der<=0:\n",
    "                raiz = raiz_bip_2d(funcion,r_izq,r_der)\n",
    "                raices_x.append(raiz[0]) #Guardo los valores en dos listas una para X y otra para Y\n",
    "                raices_y.append(raiz[1])\n",
    "                \n",
    "    return array([raices_x, raices_y])"
   ]
  },
  {
   "cell_type": "markdown",
   "metadata": {},
   "source": [
    "# Problema 3"
   ]
  },
  {
   "cell_type": "markdown",
   "metadata": {},
   "source": [
    "Método de Runge-Kutta de 4to orden"
   ]
  },
  {
   "cell_type": "code",
   "execution_count": 14,
   "metadata": {
    "collapsed": true
   },
   "outputs": [],
   "source": [
    "def rk4(ec,p_ini,x,args=0,h=0.01):\n",
    "    if (x[1]-x[0]) <= 5.*h:\n",
    "        h = (x[1]-x[0])/10\n",
    "    tiempos = arange(x[0],x[1]+h,h)\n",
    "    sol = zeros((len(tiempos),len(p_ini)))\n",
    "    sol[0,:] = p_ini\n",
    "    if args==0:\n",
    "        for i in xrange(len(tiempos)-1):\n",
    "            k1 = ec(sol[i,:],tiempos[i])\n",
    "            k2 = ec(sol[i,:]+0.5*h*k1,tiempos[i]+0.5*h)\n",
    "            k3 = ec(sol[i,:]+0.5*h*k2,tiempos[i]+0.5*h)\n",
    "            k4 = ec(sol[i,:]+h*k3,tiempos[i]+h)\n",
    "            sol[i+1,:]=sol[i,:]+(h/6.)*(k1+2*k2+2*k3+k4)\n",
    "    else:\n",
    "        for i in xrange(len(tiempos)-1):\n",
    "            k1 = ec(sol[i,:],tiempos[i],args)\n",
    "            k2 = ec(sol[i,:]+0.5*h*k1,tiempos[i]+0.5*h,args)\n",
    "            k3 = ec(sol[i,:]+0.5*h*k2,tiempos[i]+0.5*h,args)\n",
    "            k4 = ec(sol[i,:]+h*k3,tiempos[i]+h,args)\n",
    "            sol[i+1,:]=sol[i,:]+(h/6.)*(k1+2*k2+2*k3+k4)\n",
    "    return tiempos,sol"
   ]
  },
  {
   "cell_type": "markdown",
   "metadata": {
    "collapsed": true
   },
   "source": [
    "La función auxiliar para graficar y que todo sea mas sencillo: "
   ]
  },
  {
   "cell_type": "code",
   "execution_count": 16,
   "metadata": {
    "collapsed": true
   },
   "outputs": [],
   "source": [
    "def datos_graf(condicion_ini, angulo, modelo_fric=0 , pts = 100, dt=0.1):\n",
    "    N = pts\n",
    "     #condicion_ini = [x,y,vx,vy]\n",
    "    inicio = condicion_ini\n",
    "    trayectoria = zeros((N,len(inicio)))\n",
    "    mdt = dt\n",
    "    trayectoria[0,:] = array(inicio)\n",
    "    \n",
    "    for i in range(N-1):\n",
    "        t , sol_dt = rk4(e_mov,trayectoria[i,:],[0,mdt], modelo_fric)\n",
    "    \n",
    "        if sol_dt[-1,:][1] - plano(sol_dt[-1,:][0], angulo) < 0:\n",
    "            y_izq = rebote(trayectoria[i,:], mdt, angulo)    \n",
    "            trayectoria[i+1,:] = y_izq\n",
    "        else:\n",
    "            trayectoria[i+1,:] = sol_dt[-1,:]\n",
    "    \n",
    "    return trayectoria"
   ]
  },
  {
   "cell_type": "code",
   "execution_count": null,
   "metadata": {
    "collapsed": true
   },
   "outputs": [],
   "source": []
  }
 ],
 "metadata": {
  "anaconda-cloud": {},
  "kernelspec": {
   "display_name": "Python [Root]",
   "language": "python",
   "name": "Python [Root]"
  },
  "language_info": {
   "codemirror_mode": {
    "name": "ipython",
    "version": 2
   },
   "file_extension": ".py",
   "mimetype": "text/x-python",
   "name": "python",
   "nbconvert_exporter": "python",
   "pygments_lexer": "ipython2",
   "version": "2.7.12"
  }
 },
 "nbformat": 4,
 "nbformat_minor": 0
}
