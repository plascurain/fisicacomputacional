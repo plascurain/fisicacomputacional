{
 "cells": [
  {
   "cell_type": "code",
   "execution_count": 15,
   "metadata": {
    "collapsed": true
   },
   "outputs": [],
   "source": [
    "from pylab import*\n",
    "from random import randint #usamos esta función de python para generar números aleatorios entre dos límites (prob.6)\n",
    "%matplotlib inline"
   ]
  },
  {
   "cell_type": "markdown",
   "metadata": {},
   "source": [
    "# Problema 2\n",
    "\n",
    "Queremos encontrar la derivada utilizando la fórmula: \n",
    "\n",
    "$$ \n",
    "f'(x)= \\frac{f(x+h)-f(x)}{h}\n",
    "$$ \n",
    "\n",
    "Entonces primero vamos a definir una función \"dev_num\" que haga la derivada: "
   ]
  },
  {
   "cell_type": "code",
   "execution_count": 16,
   "metadata": {
    "collapsed": true
   },
   "outputs": [],
   "source": [
    "def dev_num(f , x , h=1e-4):\n",
    "    \n",
    "    return (f(x+h)-f(x))/(h)"
   ]
  },
  {
   "cell_type": "markdown",
   "metadata": {},
   "source": [
    "Además, sabemos que python tiene una cosa bien bonita que hace las derivadas de las funciones, usando la librería \"sympy\" con la función f.diff(arg) (arg:= argumento) tendremos la derivada de manera analítica... aunque la función no es muy difícil de derivar jejeje. "
   ]
  },
  {
   "cell_type": "markdown",
   "metadata": {},
   "source": [
    "Entonces metemos la función: \n",
    "\n",
    "$$\n",
    "f(x) = x^3 -5x +2 \n",
    "$$ \n",
    "\n",
    "tal que su derivada es: \n",
    "\n",
    "$$\n",
    "f'(x) = 3x^2 -5\n",
    "$$"
   ]
  },
  {
   "cell_type": "code",
   "execution_count": 17,
   "metadata": {
    "collapsed": true
   },
   "outputs": [],
   "source": [
    "def funcion(x): \n",
    "    \n",
    "    return x**3. - 5.*x +2.\n",
    "\n",
    "def dev_funcion(x): \n",
    "    \n",
    "    return 3.*(x**2.) -5."
   ]
  },
  {
   "cell_type": "code",
   "execution_count": 18,
   "metadata": {
    "collapsed": false
   },
   "outputs": [
    {
     "name": "stdout",
     "output_type": "stream",
     "text": [
      "47.5081160032\n",
      "47.5093710954\n"
     ]
    }
   ],
   "source": [
    "x = linspace(-5,5,50)\n",
    "sol1= (dev_num(funcion , x ))\n",
    "print sol1[4]\n",
    "\n",
    "sol2 = dev_funcion(x)\n",
    "print sol2[4]\n",
    "\n",
    "func_ev = funcion(x)\n",
    "\n",
    "#Entonces de aquí podemos ver que los valores numéricos (tomando un x arbitrario sólo para ver que jale) sí están \n",
    "#coincidiendo... ie entre calcular numéricamente la derivada y evaluar la derivada analítica en los puntos x"
   ]
  },
  {
   "cell_type": "code",
   "execution_count": 19,
   "metadata": {
    "collapsed": false
   },
   "outputs": [
    {
     "data": {
      "image/png": "[encoded data removed]",
      "text/plain": [
       "<matplotlib.figure.Figure at 0x10d5e6d90>"
      ]
     },
     "metadata": {},
     "output_type": "display_data"
    }
   ],
   "source": [
    "#Primero voy a plotear las dos derivadas para ver que sí coinciden\n",
    "plot(x , sol1 , label='analitica' )\n",
    "plot(x , sol2 , label='numerica')\n",
    "\n",
    "grid()\n",
    "legend() \n",
    "show()\n",
    "#sí coinciden..."
   ]
  },
  {
   "cell_type": "code",
   "execution_count": 20,
   "metadata": {
    "collapsed": false
   },
   "outputs": [
    {
     "data": {
      "image/png": "[encoded data removed]",
      "text/plain": [
       "<matplotlib.figure.Figure at 0x1116e3f10>"
      ]
     },
     "metadata": {},
     "output_type": "display_data"
    }
   ],
   "source": [
    "#gráfica completa de las tres funciones, perdón el cuadro de nombres sale bien grande y lo tapa todo :( \n",
    "plot(x , sol1 , label='analitica' )\n",
    "plot(x , sol2 , label='numerica')\n",
    "plot(x , func_ev , label='Funcion')\n",
    "xlim([-6,6]),ylim([-105,140])\n",
    "grid()\n",
    "legend() \n",
    "show()"
   ]
  },
  {
   "cell_type": "markdown",
   "metadata": {},
   "source": [
    "# Problema 3\n",
    "\n",
    "Lo que queremos programar es el método de Newton: \n",
    "\n",
    "$$\n",
    "x_{n+1} = x_n - \\frac{f(x)}{f'(x)}\n",
    "$$\n",
    "\n",
    "Entonces ya tenemos la $f'(x)$ definida y ahora sólo hace falta programar lo demás :)\n",
    "\n",
    "Ahora para la función: \n",
    "$$\n",
    "f(x) = sin3x + \\frac{1}{2}cos^2{2x}\n",
    "$$\n",
    "\n",
    "En el intervalo $[0,\\pi]$\n",
    "\n",
    "Y según wolfram, esa función tiene dos raíces en el intervalo... \n",
    "\n",
    "$x_1 \\approx 1.107$ \n",
    "\n",
    "$x_2 \\approx 2.033$"
   ]
  },
  {
   "cell_type": "code",
   "execution_count": 21,
   "metadata": {
    "collapsed": true
   },
   "outputs": [],
   "source": [
    "def funcion(x): \n",
    "    return sin(3.*x) + (0.5)*(cos(2.*x))**2"
   ]
  },
  {
   "cell_type": "code",
   "execution_count": 22,
   "metadata": {
    "collapsed": true
   },
   "outputs": [],
   "source": [
    "def newton(funcion , x_ini , err=1e-9):\n",
    "    n=0\n",
    "    while abs(funcion(x_ini)) >= err:\n",
    "        \n",
    "        #print  n,\"\\t\",x_ini\n",
    "        raiz = x_ini - funcion(x_ini)/dev_num(funcion ,x_ini)\n",
    "        x_ini =  raiz\n",
    "        n += 1\n",
    "    return raiz"
   ]
  },
  {
   "cell_type": "code",
   "execution_count": 23,
   "metadata": {
    "collapsed": true
   },
   "outputs": [],
   "source": [
    "def todas_raices(funcion, intervalo, n , tol = 1e-6):\n",
    "    paso = 4\n",
    "    x = linspace(intervalo[0],intervalo[1],paso)\n",
    "    raices = []\n",
    "    \n",
    "    for i in range(len(x)-1):\n",
    "        sol=newton(funcion, x[i],tol)\n",
    "        if sol != False:\n",
    "            raices.append(sol)\n",
    "        \n",
    "    return raices"
   ]
  },
  {
   "cell_type": "code",
   "execution_count": 24,
   "metadata": {
    "collapsed": false
   },
   "outputs": [
    {
     "name": "stdout",
     "output_type": "stream",
     "text": [
      "[-0.15654720819390772, 1.1077085615492979, 2.033884092392547]\n"
     ]
    },
    {
     "data": {
      "image/png": "[encoded data removed]",
      "text/plain": [
       "<matplotlib.figure.Figure at 0x1119161d0>"
      ]
     },
     "metadata": {},
     "output_type": "display_data"
    }
   ],
   "source": [
    "intervalo = [0. , pi]\n",
    "n=4\n",
    "raices = todas_raices(funcion , intervalo , n)\n",
    "\n",
    "print raices\n",
    "x = linspace(0, pi, 600)\n",
    "figure(figsize=(15,5))\n",
    "plot(x, funcion(x))\n",
    "xlim([0,pi])\n",
    "plot(raices, zeros_like(raices), 'ro')\n",
    "grid()\n",
    "show()\n",
    "\n",
    "#bueno y aquí me imprime los dos valores que daba wolfram y otro que seguramente es raíz pero que anda fuera de\n",
    "#mi intervalo y ya le moví todo al código y nomás no logro quitarlo... sabe Cristo por qué andará ahí. "
   ]
  },
  {
   "cell_type": "markdown",
   "metadata": {},
   "source": [
    "# Problema 6\n",
    "\n"
   ]
  },
  {
   "cell_type": "code",
   "execution_count": 29,
   "metadata": {
    "collapsed": true
   },
   "outputs": [],
   "source": [
    "#lo que va a hacer este programa es que va a tomar un número y va a ir tomando el valor de cada dígito separando \n",
    "#por órdenes de magnitud ie: módulo 10... \n",
    "#y la variable de la suma va a ir \"aumentando\" mientras \"disminuye\" la de numero... al final de cada ciclo, se \n",
    "#descarta el resíduo por cada órden de magnitud y así vamos a evitar que se repitan dígitos.  \n",
    "\n",
    "def suma_numeros(numero): \n",
    "    suma = 0 #comenzamos sabiendo que el valor de la suma es cero... antes de saber cuál es el número\n",
    "    \n",
    "    while numero: \n",
    "        suma += numero % 10 \n",
    "        numero //= 10 \n",
    "    return suma"
   ]
  },
  {
   "cell_type": "code",
   "execution_count": 30,
   "metadata": {
    "collapsed": false
   },
   "outputs": [
    {
     "name": "stdout",
     "output_type": "stream",
     "text": [
      "ejemplo 1  4\n",
      "ejemplo 2  10\n"
     ]
    }
   ],
   "source": [
    "#cosa de prueba a ver si jala con números chiquitos\n",
    "\n",
    "ejemplo = 13 #sé que la suma tiene que ser (1+3) = 4\n",
    "ejemplo2 = 235 #la suma tiene que ser (2+3+5) = 10\n",
    "\n",
    "a = suma_numeros(ejemplo)\n",
    "b = suma_numeros(ejemplo2)\n",
    "\n",
    "print 'ejemplo 1 ', a\n",
    "print 'ejemplo 2 ', b\n"
   ]
  },
  {
   "cell_type": "code",
   "execution_count": 31,
   "metadata": {
    "collapsed": false
   },
   "outputs": [
    {
     "name": "stdout",
     "output_type": "stream",
     "text": [
      "el numero era: 72 la suma es: 9\n",
      "el numero era: 249 la suma es: 15\n",
      "el numero era: 7513 la suma es: 16\n",
      "el numero era: 73764 la suma es: 27\n"
     ]
    }
   ],
   "source": [
    "#ahora lo que vamos a hacer es que generaremos números aleatorios de 2,3,4 y 5 dígitos:\n",
    "#claramente no hago la suma de 1 dígito porque es trivial... \n",
    "\n",
    "#dos dígitos\n",
    "dos_dig = randint(10,99)\n",
    "suma2 = suma_numeros(dos_dig)\n",
    "print 'el numero era:' , dos_dig , 'la suma es:' , suma2\n",
    "\n",
    "#tres dígitos\n",
    "tres_dig = randint(100,999)\n",
    "suma3 = suma_numeros(tres_dig)\n",
    "print 'el numero era:' , tres_dig , 'la suma es:' , suma3\n",
    "\n",
    "#cuatro dígitos\n",
    "cuatro_dig = randint(1000,9999)\n",
    "suma4 = suma_numeros(cuatro_dig)\n",
    "print 'el numero era:' , cuatro_dig , 'la suma es:' , suma4\n",
    "\n",
    "#cinco dígitos\n",
    "cinco_dig = randint(10000,99999)\n",
    "suma5 = suma_numeros(cinco_dig)\n",
    "print 'el numero era:' , cinco_dig , 'la suma es:' , suma5\n",
    "\n",
    "#yo digo que con eso ya se ve que sí jala... la neta :) "
   ]
  },
  {
   "cell_type": "code",
   "execution_count": null,
   "metadata": {
    "collapsed": true
   },
   "outputs": [],
   "source": []
  }
 ],
 "metadata": {
  "kernelspec": {
   "display_name": "Python [Root]",
   "language": "python",
   "name": "Python [Root]"
  },
  "language_info": {
   "codemirror_mode": {
    "name": "ipython",
    "version": 2
   },
   "file_extension": ".py",
   "mimetype": "text/x-python",
   "name": "python",
   "nbconvert_exporter": "python",
   "pygments_lexer": "ipython2",
   "version": "2.7.12"
  }
 },
 "nbformat": 4,
 "nbformat_minor": 0
}
