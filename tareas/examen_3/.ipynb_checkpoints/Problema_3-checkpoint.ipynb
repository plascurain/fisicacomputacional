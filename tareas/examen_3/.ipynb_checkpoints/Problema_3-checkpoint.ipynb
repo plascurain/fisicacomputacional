{
 "cells": [
  {
   "cell_type": "code",
   "execution_count": 1,
   "metadata": {
    "collapsed": true
   },
   "outputs": [],
   "source": [
    "from pylab import*\n",
    "%matplotlib inline"
   ]
  },
  {
   "cell_type": "markdown",
   "metadata": {},
   "source": [
    "Lo que queremos programar es el método de Newton: \n",
    "\n",
    "$$\n",
    "x_{n+1} = x_n - \\frac{f(x)}{f'(x)}\n",
    "$$\n",
    "\n",
    "Entonces ya tenemos la $f'(x)$ definida y ahora sólo hace falta programar lo demás :)"
   ]
  },
  {
   "cell_type": "markdown",
   "metadata": {},
   "source": [
    "Ahora para la función: \n",
    "$$\n",
    "f(x) = sin3x + \\frac{1}{2}cos^2{2x}\n",
    "$$\n",
    "\n",
    "En el intervalo $[0,\\pi]$\n",
    "\n",
    "Y según wolfram, esa función tiene dos raíces en el intervalo... \n",
    "\n",
    "$x_1 \\approx 1.107$ \n",
    "\n",
    "$x_2 \\approx 2.033$"
   ]
  },
  {
   "cell_type": "code",
   "execution_count": 8,
   "metadata": {
    "collapsed": true
   },
   "outputs": [],
   "source": [
    "def funcion(x): \n",
    "    return sin(3.*x) + (0.5)*(cos(2.*x))**2"
   ]
  },
  {
   "cell_type": "code",
   "execution_count": 4,
   "metadata": {
    "collapsed": true
   },
   "outputs": [],
   "source": [
    "#usaré la misma forma de calcular la derivada numérica que en el problema 2... porque ya vi que sí jala jeje\n",
    "def dev_num(f , x , h=1e-4):\n",
    "    \n",
    "    return (f(x+h)-f(x))/(h)"
   ]
  },
  {
   "cell_type": "code",
   "execution_count": 12,
   "metadata": {
    "collapsed": true
   },
   "outputs": [],
   "source": [
    "def newton(funcion , x_ini , err=1e-9):\n",
    "    n=0\n",
    "    while abs(funcion(x_ini)) >= err:\n",
    "        \n",
    "        #print  n,\"\\t\",x_ini\n",
    "        raiz = x_ini - funcion(x_ini)/dev_num(funcion ,x_ini)\n",
    "        x_ini =  raiz\n",
    "        n += 1\n",
    "    return raiz"
   ]
  },
  {
   "cell_type": "code",
   "execution_count": 39,
   "metadata": {
    "collapsed": false
   },
   "outputs": [],
   "source": [
    "def todas_raices(funcion, intervalo, n , tol = 1e-6):\n",
    "    paso = 4\n",
    "    x = linspace(intervalo[0],intervalo[1],paso)\n",
    "    raices = []\n",
    "    \n",
    "    for i in range(len(x)-1):\n",
    "        sol=newton(funcion, x[i],tol)\n",
    "        if sol != False:\n",
    "            raices.append(sol)\n",
    "        \n",
    "    return raices"
   ]
  },
  {
   "cell_type": "code",
   "execution_count": 41,
   "metadata": {
    "collapsed": false
   },
   "outputs": [
    {
     "name": "stdout",
     "output_type": "stream",
     "text": [
      "[-0.15654720819390772, 1.1077085615492979, 2.033884092392547]\n"
     ]
    },
    {
     "data": {
      "image/png": "[encoded data removed]",
      "text/plain": [
       "<matplotlib.figure.Figure at 0x112127950>"
      ]
     },
     "metadata": {},
     "output_type": "display_data"
    }
   ],
   "source": [
    "intervalo = [0. , pi]\n",
    "\n",
    "raices = todas_raices(funcion , intervalo , n)\n",
    "\n",
    "print raices\n",
    "x = linspace(0, pi, 600)\n",
    "figure(figsize=(15,5))\n",
    "plot(x, funcion(x))\n",
    "xlim([0,pi])\n",
    "plot(raices, zeros_like(raices), 'ro')\n",
    "grid()\n",
    "show()\n",
    "\n",
    "#bueno y aquí me imprime los dos valores que daba wolfram y otro que seguramente es raíz pero que anda fuera de\n",
    "#mi intervalo y ya le moví todo al código y nomás no logro quitarlo... sabe Cristo por qué andará ahí. "
   ]
  },
  {
   "cell_type": "code",
   "execution_count": null,
   "metadata": {
    "collapsed": true
   },
   "outputs": [],
   "source": []
  }
 ],
 "metadata": {
  "kernelspec": {
   "display_name": "Python [Root]",
   "language": "python",
   "name": "Python [Root]"
  },
  "language_info": {
   "codemirror_mode": {
    "name": "ipython",
    "version": 2
   },
   "file_extension": ".py",
   "mimetype": "text/x-python",
   "name": "python",
   "nbconvert_exporter": "python",
   "pygments_lexer": "ipython2",
   "version": "2.7.12"
  }
 },
 "nbformat": 4,
 "nbformat_minor": 0
}
