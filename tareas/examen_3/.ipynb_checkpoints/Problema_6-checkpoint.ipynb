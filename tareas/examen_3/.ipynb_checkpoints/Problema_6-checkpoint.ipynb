{
 "cells": [
  {
   "cell_type": "code",
   "execution_count": 19,
   "metadata": {
    "collapsed": true
   },
   "outputs": [],
   "source": [
    "from pylab import*\n",
    "from random import randint #usamos esta función de python para generar números aleatorios entre dos límites\n",
    "%matplotlib inline"
   ]
  },
  {
   "cell_type": "code",
   "execution_count": 20,
   "metadata": {
    "collapsed": false
   },
   "outputs": [],
   "source": [
    "#lo que va a hacer este programa es que va a tomar un número y va a ir tomando el valor de cada dígito separando \n",
    "#por órdenes de magnitud ie: módulo 10... \n",
    "#y la variable de la suma va a ir \"aumentando\" mientras \"disminuye\" la de numero... al final de cada ciclo, se \n",
    "#descarta el resíduo por cada órden de magnitud y así vamos a evitar que se repitan dígitos.  \n",
    "\n",
    "def suma_numeros(numero): \n",
    "    suma = 0 #comenzamos sabiendo que el valor de la suma es cero... antes de saber cuál es el número\n",
    "    \n",
    "    while numero: \n",
    "        suma += numero % 10 \n",
    "        numero //= 10 \n",
    "    return suma"
   ]
  },
  {
   "cell_type": "code",
   "execution_count": 21,
   "metadata": {
    "collapsed": false
   },
   "outputs": [
    {
     "name": "stdout",
     "output_type": "stream",
     "text": [
      "ejemplo 1  4\n",
      "ejemplo 2  10\n"
     ]
    }
   ],
   "source": [
    "#cosa de prueba a ver si jala con números chiquitos\n",
    "\n",
    "ejemplo = 13 #sé que la suma tiene que ser (1+3) = 4\n",
    "ejemplo2 = 235 #la suma tiene que ser (2+3+5) = 10\n",
    "\n",
    "a = suma_numeros(ejemplo)\n",
    "b = suma_numeros(ejemplo2)\n",
    "\n",
    "print 'ejemplo 1 ', a\n",
    "print 'ejemplo 2 ', b\n"
   ]
  },
  {
   "cell_type": "code",
   "execution_count": 31,
   "metadata": {
    "collapsed": false
   },
   "outputs": [
    {
     "name": "stdout",
     "output_type": "stream",
     "text": [
      "el numero era: 57 la suma es: 12\n",
      "el numero era: 557 la suma es: 17\n",
      "el numero era: 3581 la suma es: 17\n",
      "el numero era: 34653 la suma es: 21\n"
     ]
    }
   ],
   "source": [
    "#ahora lo que vamos a hacer es que generaremos números aleatorios de 2,3,4 y 5 dígitos:\n",
    "#claramente no hago la suma de 1 dígito porque es trivial... \n",
    "\n",
    "#dos dígitos\n",
    "dos_dig = randint(10,99)\n",
    "suma2 = suma_numeros(dos_dig)\n",
    "print 'el numero era:' , dos_dig , 'la suma es:' , suma2\n",
    "\n",
    "#tres dígitos\n",
    "tres_dig = randint(100,999)\n",
    "suma3 = suma_numeros(tres_dig)\n",
    "print 'el numero era:' , tres_dig , 'la suma es:' , suma3\n",
    "\n",
    "#cuatro dígitos\n",
    "cuatro_dig = randint(1000,9999)\n",
    "suma4 = suma_numeros(cuatro_dig)\n",
    "print 'el numero era:' , cuatro_dig , 'la suma es:' , suma4\n",
    "\n",
    "#cinco dígitos\n",
    "cinco_dig = randint(10000,99999)\n",
    "suma5 = suma_numeros(cinco_dig)\n",
    "print 'el numero era:' , cinco_dig , 'la suma es:' , suma5\n",
    "\n",
    "#yo digo que con eso ya se ve que sí jala... la neta :) "
   ]
  },
  {
   "cell_type": "code",
   "execution_count": null,
   "metadata": {
    "collapsed": true
   },
   "outputs": [],
   "source": []
  }
 ],
 "metadata": {
  "anaconda-cloud": {},
  "kernelspec": {
   "display_name": "Python [Root]",
   "language": "python",
   "name": "Python [Root]"
  },
  "language_info": {
   "codemirror_mode": {
    "name": "ipython",
    "version": 2
   },
   "file_extension": ".py",
   "mimetype": "text/x-python",
   "name": "python",
   "nbconvert_exporter": "python",
   "pygments_lexer": "ipython2",
   "version": "2.7.12"
  }
 },
 "nbformat": 4,
 "nbformat_minor": 0
}
