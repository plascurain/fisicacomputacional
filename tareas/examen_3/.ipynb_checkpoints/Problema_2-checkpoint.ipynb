{
 "cells": [
  {
   "cell_type": "code",
   "execution_count": 1,
   "metadata": {
    "collapsed": true
   },
   "outputs": [],
   "source": [
    "from pylab import*\n",
    "#from sympy import *\n",
    "%matplotlib inline"
   ]
  },
  {
   "cell_type": "markdown",
   "metadata": {},
   "source": [
    "Queremos encontrar la derivada utilizando la fórmula: \n",
    "\n",
    "$$ \n",
    "f'(x)= \\frac{f(x+h)-f(x)}{h}\n",
    "$$ \n",
    "\n",
    "Entonces primero vamos a definir una función \"dev_num\" que haga la derivada: "
   ]
  },
  {
   "cell_type": "code",
   "execution_count": 2,
   "metadata": {
    "collapsed": true
   },
   "outputs": [],
   "source": [
    "def dev_num(f , x , h=1e-4):\n",
    "    \n",
    "    return (f(x+h)-f(x))/(h)"
   ]
  },
  {
   "cell_type": "markdown",
   "metadata": {},
   "source": [
    "Además, sabemos que python tiene una cosa bien bonita que hace las derivadas de las funciones, usando la librería \"sympy\" con la función f.diff(arg) (arg:= argumento) tendremos la derivada de manera analítica... aunque la función no es muy difícil de derivar jejeje. "
   ]
  },
  {
   "cell_type": "markdown",
   "metadata": {},
   "source": [
    "Entonces metemos la función: \n",
    "\n",
    "$$\n",
    "f(x) = x^3 -5x +2 \n",
    "$$ \n",
    "\n",
    "tal que su derivada es: \n",
    "\n",
    "$$\n",
    "f'(x) = 3x^2 -5\n",
    "$$"
   ]
  },
  {
   "cell_type": "code",
   "execution_count": 3,
   "metadata": {
    "collapsed": true
   },
   "outputs": [],
   "source": [
    "def funcion(x): \n",
    "    \n",
    "    return x**3. - 5.*x +2.\n",
    "\n",
    "def dev_funcion(x): \n",
    "    \n",
    "    return 3.*(x**2.) -5."
   ]
  },
  {
   "cell_type": "code",
   "execution_count": 20,
   "metadata": {
    "collapsed": false
   },
   "outputs": [
    {
     "name": "stdout",
     "output_type": "stream",
     "text": [
      "47.5081160032\n",
      "47.5093710954\n"
     ]
    }
   ],
   "source": [
    "x = linspace(-5,5,50)\n",
    "sol1= (dev_num(funcion , x ))\n",
    "print sol1[4]\n",
    "\n",
    "sol2 = dev_funcion(x)\n",
    "print sol2[4]\n",
    "\n",
    "func_ev = funcion(x)\n",
    "\n",
    "#Entonces de aquí podemos ver que los valores numéricos (tomando un x arbitrario sólo para ver que jale) sí están \n",
    "#coincidiendo... ie entre calcular numéricamente la derivada y evaluar la derivada analítica en los puntos x"
   ]
  },
  {
   "cell_type": "code",
   "execution_count": 28,
   "metadata": {
    "collapsed": false
   },
   "outputs": [
    {
     "data": {
      "image/png": "[encoded data removed]",
      "text/plain": [
       "<matplotlib.figure.Figure at 0x10d60a690>"
      ]
     },
     "metadata": {},
     "output_type": "display_data"
    }
   ],
   "source": [
    "#Primero voy a plotear las dos derivadas para ver que sí coinciden\n",
    "plot(x , sol1 , label='analitica' )\n",
    "plot(x , sol2 , label='numerica')\n",
    "\n",
    "grid()\n",
    "legend() \n",
    "show()\n",
    "#sí coinciden..."
   ]
  },
  {
   "cell_type": "code",
   "execution_count": 31,
   "metadata": {
    "collapsed": false
   },
   "outputs": [
    {
     "data": {
      "image/png": "[encoded data removed]",
      "text/plain": [
       "<matplotlib.figure.Figure at 0x112a87ed0>"
      ]
     },
     "metadata": {},
     "output_type": "display_data"
    }
   ],
   "source": [
    "#gráfica completa de las tres funciones, perdón el cuadro de nombres sale bien grande y lo tapa todo :( \n",
    "plot(x , sol1 , label='analitica' )\n",
    "plot(x , sol2 , label='numerica')\n",
    "plot(x , func_ev , label='Funcion')\n",
    "xlim([-6,6]),ylim([-105,140])\n",
    "grid()\n",
    "legend() \n",
    "show()"
   ]
  },
  {
   "cell_type": "code",
   "execution_count": null,
   "metadata": {
    "collapsed": true
   },
   "outputs": [],
   "source": []
  }
 ],
 "metadata": {
  "anaconda-cloud": {},
  "kernelspec": {
   "display_name": "Python [Root]",
   "language": "python",
   "name": "Python [Root]"
  },
  "language_info": {
   "codemirror_mode": {
    "name": "ipython",
    "version": 2
   },
   "file_extension": ".py",
   "mimetype": "text/x-python",
   "name": "python",
   "nbconvert_exporter": "python",
   "pygments_lexer": "ipython2",
   "version": "2.7.12"
  }
 },
 "nbformat": 4,
 "nbformat_minor": 0
}
