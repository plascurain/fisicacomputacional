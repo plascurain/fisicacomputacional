{
 "cells": [
  {
   "cell_type": "code",
   "execution_count": 1,
   "metadata": {
    "collapsed": true
   },
   "outputs": [],
   "source": [
    "from pylab import *\n",
    "%matplotlib inline"
   ]
  },
  {
   "cell_type": "markdown",
   "metadata": {},
   "source": [
    "# Tarea 1 \n",
    "## Paulina Guzmán García Lascurain"
   ]
  },
  {
   "cell_type": "markdown",
   "metadata": {},
   "source": [
    "### Definición de  los métodos de integración: "
   ]
  },
  {
   "cell_type": "markdown",
   "metadata": {},
   "source": [
    "### a) Método de Euler\n",
    "\n",
    "Primero vamos a definir nuestra función y condiciones iniciales: \n",
    "$$ \\frac{dy}{dt} = f(t,y) \\\\\\\\ y(t_0)=y_0$$\n",
    "\n",
    "Partimos de que la tangente a la solución que conocemos está dado por \n",
    "$$ y=y_0+f(t_0,y_0)(t-t_0)$$ \n",
    "\n",
    "Para el caso de $y_1$: \n",
    "$$ y_1=y_0+f(t_0,y_0)(t_1-t_0)$$ \n",
    "\n",
    "Y si pensamos que el punto consecuente $y_1$ está lo suficientemente cerca como para aproximar la pendiente entonces podemos calcular de la misma forma el punto $y_2$. Si repetimos ese paso llegaremos a la fórmula más general: \n",
    "\n",
    "$$ y_{n+1}=y_n+f(t_n,y_n)h$$ \n",
    "Donde $h=t_{n+1}-t_n$"
   ]
  },
  {
   "cell_type": "code",
   "execution_count": 3,
   "metadata": {
    "collapsed": true
   },
   "outputs": [],
   "source": [
    "def euler(ec, y_ini, intervalo, h = 0.001):\n",
    "    \n",
    "    tiempo = arange(intervalo[0],intervalo[-1] + h, h)\n",
    "    y = zeros((len(tiempo), size(y_ini)))\n",
    "    y[0] = y_ini\n",
    "    \n",
    "    for i in xrange(len(tiempo)-1):\n",
    "            y[i+1] = y[i] + ec(tiempo[i],y[i])*h\n",
    "            \n",
    "    return tiempo, y"
   ]
  },
  {
   "cell_type": "markdown",
   "metadata": {},
   "source": [
    "### b) Método de Taylor de 2do orden\n",
    "\n",
    "Si tenemos que $y'=f(x,y)$ y que $y(x_0)=y_0$\n",
    "\n",
    "$$ y(x_0+h) = y_0 + hy'(x_0) +\\frac{h^2}{2} y''(x_0) + O(x_0)$$ \n",
    "donde $O(x_0)$ serán los términos de orden superior ya que truncamos la serie en el segundo orden.\n",
    "\n",
    "https://mat.iitm.ac.in/home/sryedida/public_html/caimna/ode/taylorseries/taylor.html"
   ]
  },
  {
   "cell_type": "code",
   "execution_count": 8,
   "metadata": {
    "collapsed": true
   },
   "outputs": [],
   "source": [
    "# Escribir el método :) "
   ]
  },
  {
   "cell_type": "markdown",
   "metadata": {},
   "source": [
    "### c) Método de Runge-Kutta de 2do orden\n"
   ]
  },
  {
   "cell_type": "code",
   "execution_count": 6,
   "metadata": {
    "collapsed": true
   },
   "outputs": [],
   "source": [
    "def rk2(ec,y_ini,x,h=0.1):\n",
    "    tiempos = arange(x[0],x[1]+h,h)\n",
    "    sol = zeros((len(tiempos),len(y_ini)))\n",
    "    sol[0,:] = y_ini\n",
    "    for i in xrange(len(tiempos)-1): \n",
    "        k = h*ec(sol[i,:],tiempos[i])\n",
    "        f = ec(sol[i,:]+0.5*k,tiempos[i]+0.5*h) #la ec.dif evaluada en la primera entrada y tiempos\n",
    "        sol[i+1,:]=sol[i,:]+h*f\n",
    "    return tiempos,sol"
   ]
  },
  {
   "cell_type": "markdown",
   "metadata": {},
   "source": [
    "### d) Método de Runge-Kutta de 4to orden\n",
    "\n",
    "$y_{n+1} = y_n +\\frac{h}{6}(k_1+2k_2+2k_3+k_4)$\n",
    "\n",
    "$k_1=f(x_n,y_n)$\n",
    "\n",
    "$k_2= f(x_n+\\frac{h}{2},y_n+\\frac{h}{2}k_1)$\n",
    "\n",
    "$k_3 = f(x_n +\\frac{h}{2},y_n + \\frac{h}{2}k_2)$\n",
    "\n",
    "$k_4 = f(x_n +h,y_n + hk_3)$"
   ]
  },
  {
   "cell_type": "code",
   "execution_count": 7,
   "metadata": {
    "collapsed": true
   },
   "outputs": [],
   "source": [
    "def rk4(ec,y_ini,x,h=0.1):\n",
    "    tiempos = arange(x[0],x[1]+h,h)\n",
    "    sol = zeros((len(tiempos),len(y_ini)))\n",
    "    sol[0,:] = y_ini\n",
    "    for i in xrange(len(tiempos)-1): \n",
    "        k1 = ec(sol[i,:],tiempos[i])\n",
    "        k2 = ec(sol[i,:]+0.5*h*k1,tiempos[i]+0.5*h) \n",
    "        k3 = ec(sol[i,:]+0.5*h*k2,tiempos[i]+0.5*h) \n",
    "        k4 = ec(sol[i,:]+h*k3,tiempos[i]+h) \n",
    "        sol[i+1,:]=sol[i,:]+(h/6.)*(k1+2*k2+2*k3+k4) \n",
    "    return tiempos,sol"
   ]
  }
 ],
 "metadata": {
  "anaconda-cloud": {},
  "kernelspec": {
   "display_name": "Python [Root]",
   "language": "python",
   "name": "Python [Root]"
  },
  "language_info": {
   "codemirror_mode": {
    "name": "ipython",
    "version": 2
   },
   "file_extension": ".py",
   "mimetype": "text/x-python",
   "name": "python",
   "nbconvert_exporter": "python",
   "pygments_lexer": "ipython2",
   "version": "2.7.12"
  }
 },
 "nbformat": 4,
 "nbformat_minor": 0
}
