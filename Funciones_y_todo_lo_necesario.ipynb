{
 "cells": [
  {
   "cell_type": "code",
   "execution_count": 22,
   "metadata": {
    "collapsed": true
   },
   "outputs": [],
   "source": [
    "from pylab import *\n",
    "%matplotlib inline"
   ]
  },
  {
   "cell_type": "markdown",
   "metadata": {},
   "source": [
    "# Problema 1 "
   ]
  },
  {
   "cell_type": "markdown",
   "metadata": {},
   "source": [
    "## Función de raíces por bipartición\n",
    "\n"
   ]
  },
  {
   "cell_type": "code",
   "execution_count": 23,
   "metadata": {
    "collapsed": true
   },
   "outputs": [],
   "source": [
    "def raiz_bip(func,x_izq,x_der, err=1e-5): #(la función, punto ancla izquiero, punto ancla derecho, error)\n",
    "    raiz = 0.5*(x_izq + x_der)\n",
    "    y_izq, y_der = func(x_izq), func(x_der)\n",
    "    n,nmax=0,500\n",
    "    \n",
    "    while abs(y_der) >=err and n <=nmax:\n",
    "        y_medio = func(raiz)\n",
    "        \n",
    "        #Por si le atina a la raíz... (que es algo raro pero puede suceder)\n",
    "        if y_medio == 0 :\n",
    "            print \"Le atiné a la raíz\" \n",
    "            break \n",
    "        \n",
    "        #Si no le atina a la raíz:\n",
    "        if y_medio*y_izq < 0:\n",
    "            x_der = raiz\n",
    "        else:\n",
    "            x_izq = raiz\n",
    "        \n",
    "        raiz = 0.5*(x_izq+x_der)\n",
    "        y_izq,y_der = func(x_izq),func(x_der)\n",
    "        n += 1 #Contador\n",
    "        \n",
    "    if n >= nmax or abs(func(raiz)) > err:\n",
    "        return False #\"No hay raiz en este intervalo\"\n",
    "    else:\n",
    "        return raiz"
   ]
  },
  {
   "cell_type": "code",
   "execution_count": 24,
   "metadata": {
    "collapsed": false
   },
   "outputs": [],
   "source": [
    "def todas_raices(funcion, intervalo, n , tol = 1e-6):\n",
    "    x = linspace(intervalo[0],intervalo[1],n)\n",
    "    raices = []\n",
    "    \n",
    "    for i in range(len(x)-1):\n",
    "        sol=raiz_bip(funcion, x[i], x[i+1],tol)\n",
    "        if sol != False:\n",
    "            raices.append(sol)\n",
    "        \n",
    "    return raices\n",
    "        "
   ]
  },
  {
   "cell_type": "markdown",
   "metadata": {
    "collapsed": true
   },
   "source": [
    "# Problema 2"
   ]
  },
  {
   "cell_type": "code",
   "execution_count": 25,
   "metadata": {
    "collapsed": true
   },
   "outputs": [],
   "source": [
    "def raiz_bip_2d(funcion,r_izq, r_der ,err=1e-5): #siguiendo la misma idea que \"raiz_bip\"\n",
    "    r_izq, r_der = array(r_izq) , array(r_der)   #puesto que ahora estamos en dos dimensiones, vamos a hacer\n",
    "                                                 #un array de los valores en el intervalo\n",
    "    raiz = 0.5*(r_izq+ r_der)     \n",
    "    func_izq, func_der = funcion(r_izq) , funcion(r_der)   \n",
    "\n",
    "    while abs(func_izq - func_der)>= err:\n",
    "        func_med = funcion(raiz)\n",
    "        if func_med==.0:\n",
    "            break\n",
    "        if func_izq*func_med < 0:\n",
    "            r_der = raiz\n",
    "        else:\n",
    "            r_izq = raiz\n",
    "        raiz = 0.5 *(r_izq + r_der)\n",
    "        func_izq , func_der = funcion(r_izq) , funcion(r_der)\n",
    "    return array(raiz)   "
   ]
  },
  {
   "cell_type": "code",
   "execution_count": 26,
   "metadata": {
    "collapsed": true
   },
   "outputs": [],
   "source": [
    "def todas_raices_2d(funcion, intervalo, tol=1e-2):  #donde: intervalo = [x_i,x_f,y_i,y_f]\n",
    "    x = arange(intervalo[0],intervalo[1]+tol, tol)\n",
    "    y = arange(intervalo[2],intervalo[3]+tol, tol)\n",
    "    raices_x = []  #dejamos abierto el tamaño del array porque no sabemos cuantas raices va a encontrar\n",
    "    raices_y = []\n",
    "    \n",
    "    for i in xrange(len(x)-1):      #estos dos for son para barrer primero la funcion en los valores de X y despues\n",
    "                                    # con uno fijo, barrer los de Y. \n",
    "        for j in xrange(len(y)-1):\n",
    "            r_izq = [x[i], y[j]]\n",
    "            r_der = [x[i], y[j+1]]\n",
    "            f_izq, f_der = funcion(r_izq) , funcion(r_der)\n",
    "            \n",
    "            if f_izq*f_der<=0:\n",
    "                raiz = raiz_bip_2d(funcion,r_izq,r_der)\n",
    "                raices_x.append(raiz[0]) #Guardo los valores en dos listas una para X y otra para Y\n",
    "                raices_y.append(raiz[1])\n",
    "                \n",
    "    return array([raices_x, raices_y])"
   ]
  },
  {
   "cell_type": "markdown",
   "metadata": {},
   "source": [
    "# Problema 3"
   ]
  },
  {
   "cell_type": "code",
   "execution_count": null,
   "metadata": {
    "collapsed": true
   },
   "outputs": [],
   "source": []
  }
 ],
 "metadata": {
  "anaconda-cloud": {},
  "kernelspec": {
   "display_name": "Python [Root]",
   "language": "python",
   "name": "Python [Root]"
  },
  "language_info": {
   "codemirror_mode": {
    "name": "ipython",
    "version": 2
   },
   "file_extension": ".py",
   "mimetype": "text/x-python",
   "name": "python",
   "nbconvert_exporter": "python",
   "pygments_lexer": "ipython2",
   "version": "2.7.12"
  }
 },
 "nbformat": 4,
 "nbformat_minor": 0
}
