{
 "cells": [
  {
   "cell_type": "markdown",
   "metadata": {},
   "source": [
    "# Según Rich esta clase va a ser divertida\n",
    "\n",
    "## Problema planetario\n",
    "$$\n",
    "\\frac{d\\vec{p}}{dt} = -\\frac{GMm}{\\vert\\vec{r}-\\vec{r_m} \\vert} \\widehat{(\\vec{r}-\\vec{r_M})} \\cdots (1)\n",
    "$$\n",
    "\n",
    "Estando en el plano XY, trabajando en la masa mayor (o en el centro de masa):\n",
    "$ \\vec{r_M}=\\vec{0}$ \n",
    "\n",
    "Entonces nuestra ecuación se vuelve: \n",
    "$$\n",
    "\\frac{d^2 \\vec{r}}{dt^2} = -\\frac{GM}{r^2} \\widehat{r}\n",
    "$$\n",
    "Si escalamos el tiempo (haciendo un cambio de variable):\n",
    "$$\n",
    "t_1= t\\sqrt{GM}\n",
    "$$\n",
    "\n",
    "$$\n",
    "\\frac{d}{dt}= \\frac{dt_1}{dt}\\frac{d}{dt_1} = \\sqrt{GM}\\frac{d}{dt}\n",
    "$$\n",
    "\n",
    "$$\n",
    "\\frac{d^2}{dt^2}=GM\\frac{d^2}{dt^2_1}\n",
    "$$\n",
    "\n",
    "Otro cambio de variable que podemos hacer es con el radio:\n",
    "$$\n",
    "\\vec{\\rho}=\\frac{\\vec{r}}{R_T}\n",
    "$$\n",
    "Donde $ R_T= <\\vec{r}(t) >$\n",
    "\n",
    "Ahora si lo sustituímos en la ecuación: \n",
    "$$\n",
    "\\frac{d^2\\vec{\\rho}}{dt}=-\\frac{GM}{\\rho^2 R^3_T} \\widehat{\\rho}\n",
    "$$\n",
    "Con un tiempo escalado $\\tau$\n",
    "$$\n",
    "\\tau= \\sqrt{\\frac{GM}{R^3_T}}t \\cdots (2)\n",
    "$$\n",
    "\n",
    "$$\n",
    "\\frac{d^2}{dt^2} = -\\frac{GM}{R^3_T}\\frac{d^2}{d\\tau^2}\n",
    "$$\n",
    "Entonces: \n",
    "$$\n",
    "\\frac{d^2 \\vec{\\rho}}{d\\tau^2} = -\\frac{\\widehat{\\rho}}{\\rho^2} \\cdots(3)\n",
    "$$\n",
    "\n",
    "Entonces sabemos que el periodo está dado por :\n",
    "$$\n",
    "\\frac{(2\\pi)^2}{GM} R^3_T =T^2 \\cdots (4)\n",
    "$$\n",
    "\n",
    "Si mi sistema fuera periódico, el periodo sería $2\\pi$ (que es la única suposición que hemos hecho). La ecuación 4 es una forma muy fancy de hacer una báscula... uuuu\n",
    "\n",
    "Lo que queremos programar es la ecuación (4) donde las unidades las definimos en (2)\n",
    "\n",
    "Ahora vamos a utilizar el método de R-K, nuestro método sin nombre de segundo orden y otro de cuarto orden para ver cuál se acerca más a la realidad y otro. "
   ]
  },
  {
   "cell_type": "code",
   "execution_count": 81,
   "metadata": {
    "collapsed": true
   },
   "outputs": [],
   "source": [
    "from pylab import *\n",
    "%matplotlib inline\n",
    "%run \"mis_integradores.ipynb\" #esto llama a un código de otro notebook "
   ]
  },
  {
   "cell_type": "markdown",
   "metadata": {},
   "source": [
    "Hay que resolver: \n",
    "$$\n",
    "\\frac{d^2 \\vec{\\rho}}{d\\tau^2} = -\\frac{\\widehat{\\rho}}{\\rho^2}\n",
    "$$"
   ]
  },
  {
   "cell_type": "markdown",
   "metadata": {},
   "source": [
    "Donde $ \\ddot{\\vec{\\rho}} = (\\ddot{\\rho_x},\\ddot{\\rho_y})$ y $\\ddot{\\vec{\\rho}}=-\\frac{\\vec{\\rho}}{\\rho^3}$\n",
    "\n",
    "$ \\dot{\\rho_x}=V_{\\rho x} , \\dot{\\rho_y}=V_{\\rho y} , \\dot{V}_{\\rho x} = \\frac{-\\rho_x}{\\rho^3} , \\dot{V}_{\\rho y} = \\frac{-\\rho_y}{\\rho^3} $"
   ]
  },
  {
   "cell_type": "markdown",
   "metadata": {},
   "source": [
    "### Esta integración la vamos a hacer con el método de RK de segundo orden"
   ]
  },
  {
   "cell_type": "code",
   "execution_count": 82,
   "metadata": {
    "collapsed": true
   },
   "outputs": [],
   "source": [
    "def mov_planeta (x,t):\n",
    "    r3 = (x[0]**2 + x[1]**2)**(1.5)\n",
    "    drx = x[2]\n",
    "    dry = x[3]\n",
    "    dvrx = -x[0]/r3\n",
    "    dvry = -x[1]/r3\n",
    "    return array([drx,dry,dvrx,dvry])"
   ]
  },
  {
   "cell_type": "code",
   "execution_count": 120,
   "metadata": {
    "collapsed": false
   },
   "outputs": [
    {
     "data": {
      "image/png": "[encoded data removed]",
      "text/plain": [
       "<matplotlib.figure.Figure at 0x10c143f90>"
      ]
     },
     "metadata": {},
     "output_type": "display_data"
    },
    {
     "name": "stdout",
     "output_type": "stream",
     "text": [
      "CPU times: user 209 ms, sys: 5.75 ms, total: 215 ms\n",
      "Wall time: 213 ms\n"
     ]
    }
   ],
   "source": [
    "%%time\n",
    "t,r_vr = rk2(mov_planeta,[1,0,0.4,0.9],[0,10],0.1)\n",
    "xlim([-1.5,1.5]) #te escala los límites de la gráfica en el eje x sólo sirve para el \"plot\" que estás haciendo\n",
    "ylim([-1.5,1.5])#te escala los límites de la gráfica en el eje y\n",
    "axes().set_aspect('equal') #hace que la escala de los ejes sea 1:1\n",
    "grid(True)\n",
    "plot(r_vr[:,0],r_vr[:,1],'.-')\n",
    "show()"
   ]
  },
  {
   "cell_type": "markdown",
   "metadata": {},
   "source": [
    "### Ahora vamos a trabajar con el otro método que usa al jacobiano\n",
    "\n",
    "$\\vec{J}= $ ( \\begin{array}{lrc} 0 & 0 & 1 & 0 \\\\\n",
    "0 & 0 & 0 & 1 \\\\\n",
    "\\frac{2\\rho^2_x-\\rho^2_y}{\\rho^5} & \\frac{3\\rho^2_x \\rho_y}{\\rho^5} & 0 & 0 \\\\\n",
    "\\frac{3\\rho^2_x \\rho_y}{\\rho^5} & \\frac{2\\rho^2_y-\\rho^2_x}{\\rho^5} & 0 & 0\n",
    "\\end{array} )\n",
    "\n"
   ]
  },
  {
   "cell_type": "code",
   "execution_count": 109,
   "metadata": {
    "collapsed": true
   },
   "outputs": [],
   "source": [
    "def J_mov_planeta(x,y):\n",
    "    d_ec = array([0,0,0,0])\n",
    "    r5 = (x[0]**2 + x[1]**2)**(2.5)\n",
    "    rxmry = (2*x[0]*x[0] - x[1]*x[1])/r5\n",
    "    rymrx = (2*x[1]*x[1] - x[0]*x[0])/r5\n",
    "    rxry = (3*x[0]*x[1])/r5\n",
    "    Jac = array([[0,0,1,0],[0,0,0,1],[rxmry,rxry,0,0],[rxry,rymrx,0,0]])\n",
    "    return d_ec,Jac"
   ]
  },
  {
   "cell_type": "code",
   "execution_count": 121,
   "metadata": {
    "collapsed": false
   },
   "outputs": [
    {
     "data": {
      "image/png": "[encoded data removed]",
      "text/plain": [
       "<matplotlib.figure.Figure at 0x112738590>"
      ]
     },
     "metadata": {},
     "output_type": "display_data"
    },
    {
     "name": "stdout",
     "output_type": "stream",
     "text": [
      "CPU times: user 211 ms, sys: 5.49 ms, total: 217 ms\n",
      "Wall time: 217 ms\n"
     ]
    }
   ],
   "source": [
    "%%time\n",
    "t,r_vr = integra2(mov_planeta,J_mov_planeta,[1,0,0.4,0.9],[0,10],0.1)\n",
    "xlim([-1.5,1.5]) #te escala los límites de la gráfica en el eje x sólo sirve para el \"plot\" que estás haciendo\n",
    "ylim([-1.5,1.5])#te escala los límites de la gráfica en el eje y\n",
    "axes().set_aspect('equal') #hace que la escala de los ejes sea 1:1\n",
    "grid(True)\n",
    "plot(r_vr[:,0],r_vr[:,1],'.-')\n",
    "show()"
   ]
  },
  {
   "cell_type": "markdown",
   "metadata": {},
   "source": [
    "### Usando el método de RK de cuarto orden \n",
    "Aquí usamos las mismas cosas que para el de rk2 pero a la hora de dar los valores nomás usamos el rk4"
   ]
  },
  {
   "cell_type": "code",
   "execution_count": 122,
   "metadata": {
    "collapsed": false
   },
   "outputs": [
    {
     "data": {
      "image/png": "[encoded data removed]",
      "text/plain": [
       "<matplotlib.figure.Figure at 0x11401d650>"
      ]
     },
     "metadata": {},
     "output_type": "display_data"
    },
    {
     "name": "stdout",
     "output_type": "stream",
     "text": [
      "CPU times: user 204 ms, sys: 6.23 ms, total: 211 ms\n",
      "Wall time: 208 ms\n"
     ]
    }
   ],
   "source": [
    "%%time\n",
    "t,r_vr = rk4(mov_planeta,[1,0,0.4,0.9],[0,10],0.1)\n",
    "xlim([-1.5,1.5]) #te escala los límites de la gráfica en el eje x sólo sirve para el \"plot\" que estás haciendo\n",
    "ylim([-1.5,1.5])#te escala los límites de la gráfica en el eje y\n",
    "axes().set_aspect('equal') #hace que la escala de los ejes sea 1:1\n",
    "grid(True)\n",
    "plot(r_vr[:,0],r_vr[:,1],'.-')\n",
    "show()"
   ]
  },
  {
   "cell_type": "markdown",
   "metadata": {},
   "source": [
    "Con este método sí se cierra la órbita :) :)"
   ]
  },
  {
   "cell_type": "markdown",
   "metadata": {},
   "source": [
    "### Ahora vamos a usar el método de python \"odeint\""
   ]
  },
  {
   "cell_type": "code",
   "execution_count": 112,
   "metadata": {
    "collapsed": true
   },
   "outputs": [],
   "source": [
    "from scipy.integrate import *"
   ]
  },
  {
   "cell_type": "code",
   "execution_count": 113,
   "metadata": {
    "collapsed": true
   },
   "outputs": [],
   "source": [
    "h=0.1\n",
    "tiempos = arange(0,10+h,h)"
   ]
  },
  {
   "cell_type": "code",
   "execution_count": 127,
   "metadata": {
    "collapsed": false
   },
   "outputs": [
    {
     "data": {
      "image/png": "[encoded data removed]",
      "text/plain": [
       "<matplotlib.figure.Figure at 0x10f25e2d0>"
      ]
     },
     "metadata": {},
     "output_type": "display_data"
    },
    {
     "name": "stdout",
     "output_type": "stream",
     "text": [
      "CPU times: user 257 ms, sys: 7.34 ms, total: 265 ms\n",
      "Wall time: 264 ms\n"
     ]
    }
   ],
   "source": [
    "%%time\n",
    "r_vr=odeint(mov_planeta,[1,0,0.4,0.9],tiempos)\n",
    "xlim([-1.5,1.5]) #te escala los límites de la gráfica en el eje x sólo sirve para el \"plot\" que estás haciendo\n",
    "ylim([-1.5,1.5])#te escala los límites de la gráfica en el eje y\n",
    "axes().set_aspect('equal') #hace que la escala de los ejes sea 1:1\n",
    "grid(True)\n",
    "plot(r_vr[:,0],r_vr[:,1],'.-')\n",
    "show()"
   ]
  },
  {
   "cell_type": "markdown",
   "metadata": {},
   "source": [
    "Esto se llama \"la hodógrafa\" y es una cosa muy rara\n",
    "\n",
    "#### La Hodógrafa: \n",
    "Es un mapeo en el que uno agarra todos los puntos desde el centro de atracción (uno de los focos) y toma todos los vectores de velovidad y los ponen en un ramo de flores (que no es el centro) pero todos los puntos de los vectores de velocidad tienen magnitud tal que forman un círculo... si nos agarráramos todos los vectores aceleración, nos daría un cachito de círculo. "
   ]
  },
  {
   "cell_type": "code",
   "execution_count": 128,
   "metadata": {
    "collapsed": false
   },
   "outputs": [
    {
     "data": {
      "image/png": "[encoded data removed]",
      "text/plain": [
       "<matplotlib.figure.Figure at 0x1141720d0>"
      ]
     },
     "metadata": {},
     "output_type": "display_data"
    },
    {
     "name": "stdout",
     "output_type": "stream",
     "text": [
      "CPU times: user 231 ms, sys: 8.52 ms, total: 240 ms\n",
      "Wall time: 237 ms\n"
     ]
    }
   ],
   "source": [
    "%%time\n",
    "xlim([-2,2]) #te escala los límites de la gráfica en el eje x sólo sirve para el \"plot\" que estás haciendo\n",
    "ylim([-2,2])#te escala los límites de la gráfica en el eje y\n",
    "axes().set_aspect('equal') #hace que la escala de los ejes sea 1:1\n",
    "grid(True)\n",
    "plot(r_vr[:,2],r_vr[:,3],'.-')\n",
    "show()"
   ]
  },
  {
   "cell_type": "code",
   "execution_count": null,
   "metadata": {
    "collapsed": true
   },
   "outputs": [],
   "source": []
  }
 ],
 "metadata": {
  "anaconda-cloud": {},
  "kernelspec": {
   "display_name": "Python [Root]",
   "language": "python",
   "name": "Python [Root]"
  },
  "language_info": {
   "codemirror_mode": {
    "name": "ipython",
    "version": 2
   },
   "file_extension": ".py",
   "mimetype": "text/x-python",
   "name": "python",
   "nbconvert_exporter": "python",
   "pygments_lexer": "ipython2",
   "version": "2.7.12"
  }
 },
 "nbformat": 4,
 "nbformat_minor": 0
}
