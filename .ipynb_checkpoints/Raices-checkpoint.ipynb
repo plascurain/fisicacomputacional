{
 "cells": [
  {
   "cell_type": "markdown",
   "metadata": {},
   "source": [
    "# Encontrar las raíces de una función"
   ]
  },
  {
   "cell_type": "markdown",
   "metadata": {},
   "source": [
    "Sacar raices nos sirve para caracterizar trayectorias en un sistema dinámico. \n",
    "\n",
    "Existen dos métodos para encontrar raíces, el de bipartición y el de Newton. "
   ]
  },
  {
   "cell_type": "markdown",
   "metadata": {},
   "source": [
    "## Método de bipartición\n",
    "\n",
    "Lo que vamos haciendo es que tienes una función y vas haciendo promedios con otro punto en la función, entonces sacas el promedio entre esos dos puntos. Luego le preguntas a la computadora si el resultado está por arriba o por abajo del cero (que es lo que queremos), si está por arriba tomamos los puntos anteriores y hacemos el promedio entre ellos, si está por abajo tomamos el punto original y otro para hacer el promedio. \n",
    "\n",
    "Haciendo este método recursivo de sacar promedios y luego ver si está por arriba o por abajo n veces nos va a dar como resultado que: \n",
    "$$\n",
    "\\lim_{x\\to\\infty} x_n = x_r\n",
    "$$\n",
    "\n",
    "Donde $x_r$ es nuestra raíz :)"
   ]
  },
  {
   "cell_type": "code",
   "execution_count": 62,
   "metadata": {
    "collapsed": true
   },
   "outputs": [],
   "source": [
    "from pylab import *\n",
    "%matplotlib inline"
   ]
  },
  {
   "cell_type": "code",
   "execution_count": 63,
   "metadata": {
    "collapsed": false
   },
   "outputs": [],
   "source": [
    "def raiz_bip(func,x_i,x_d,err=1e-5): #(la función, punto ancla izquiero, punto ancla derecho, error)\n",
    "    raiz = 0.5*(x_i+x_d)\n",
    "    y_i,y_d = func(x_i),func(x_d)\n",
    "    #n=0\n",
    "    while abs(raiz-x_d) >=err and abs(y_i-y_d)>=err:\n",
    "        y_m = func(raiz)\n",
    "        if y_m == 0 :\n",
    "            print \"Rich sice: chin, le atiné a la raíz\" \n",
    "            break #por si le atina a la raíz... que es raro #PAULOHARÍA\n",
    "        if y_m*y_i < 0:\n",
    "            x_d = raiz\n",
    "        else:\n",
    "            x_i = raiz\n",
    "        raiz = 0.5*(x_i+x_d)\n",
    "        y_i,y_d = func(x_i),func(x_d)\n",
    "        #n += 1\n",
    "        #print \"paso\"   ,n,   \"raíz\"  ,raiz\n",
    "        \n",
    "    return raiz"
   ]
  },
  {
   "cell_type": "markdown",
   "metadata": {},
   "source": [
    "### Prueba con el seno"
   ]
  },
  {
   "cell_type": "code",
   "execution_count": 64,
   "metadata": {
    "collapsed": false
   },
   "outputs": [
    {
     "data": {
      "image/png": "[encoded data removed]",
      "text/plain": [
       "<matplotlib.figure.Figure at 0x10b5476d0>"
      ]
     },
     "metadata": {},
     "output_type": "display_data"
    }
   ],
   "source": [
    "x=linspace(5,7)\n",
    "plot(x,sin(x))\n",
    "grid(True)\n",
    "show() "
   ]
  },
  {
   "cell_type": "code",
   "execution_count": 65,
   "metadata": {
    "collapsed": false
   },
   "outputs": [
    {
     "name": "stdout",
     "output_type": "stream",
     "text": [
      "La raíz es: 6.28318530723\n",
      "2pi         6.28318530718\n",
      "QUE IMPRESIONANTE !!\n",
      "El error es de: -4.79545292364e-11\n"
     ]
    }
   ],
   "source": [
    "print \"La raíz es:\", raiz_bip(sin,5,7,1e-10)\n",
    "print \"2pi        \",2*pi\n",
    "print \"QUE IMPRESIONANTE !!\"\n",
    "print \"El error es de:\" ,2*pi-raiz_bip(sin,5,7,1e-10)"
   ]
  },
  {
   "cell_type": "markdown",
   "metadata": {},
   "source": [
    "### Prueba con el coseno"
   ]
  },
  {
   "cell_type": "code",
   "execution_count": 66,
   "metadata": {
    "collapsed": false
   },
   "outputs": [
    {
     "data": {
      "image/png": "[encoded data removed]",
      "text/plain": [
       "<matplotlib.figure.Figure at 0x10d638410>"
      ]
     },
     "metadata": {},
     "output_type": "display_data"
    }
   ],
   "source": [
    "x=linspace(0,4)\n",
    "plot(x,cos(x))\n",
    "grid(True)\n",
    "show()"
   ]
  },
  {
   "cell_type": "code",
   "execution_count": 67,
   "metadata": {
    "collapsed": false
   },
   "outputs": [
    {
     "name": "stdout",
     "output_type": "stream",
     "text": [
      "1.57079315186\n",
      "1.57079632679\n"
     ]
    }
   ],
   "source": [
    "print raiz_bip(cos,0,4)\n",
    "print 0.5*pi"
   ]
  },
  {
   "cell_type": "markdown",
   "metadata": {},
   "source": [
    "Por muy bonito que sea este algoritmo, no va a funcionar para las funciones que no crucen el cero (sean totalmente negativas o positivas)... porque le  va a hacer falta los puntos de signos intercambiados. Para eso, nos va a funcionar el método de Newton"
   ]
  },
  {
   "cell_type": "markdown",
   "metadata": {},
   "source": [
    "## Método de Newton\n",
    "\n",
    "#### de primer orden\n"
   ]
  },
  {
   "cell_type": "markdown",
   "metadata": {
    "collapsed": true
   },
   "source": [
    "Imaginemos que tenemos una función $f$ la que sea. Para encontrar sus raíces empezamos tomando la función en un punto $x_0$ y tomamos su derivada al rededor de ese punto. La ecuación de la recta de esa derivada (si la extendemos)...\n",
    "\n",
    "$$\n",
    "y=ax+b = f'(x_0)x +b\n",
    "$$\n",
    "\n",
    "Ahora vamos a desglozar a esa ecuación... quiéne es $b$?\n",
    "$$\n",
    "b=f(x_0)-f'(x_0)x_0\n",
    "$$\n",
    "$$\n",
    "\\Rightarrow y=f'(x_0)x + f(x_0)-f'(x_0)x_0\n",
    "$$\n",
    "\n",
    "Y como estamos buscando raíces:\n",
    "$$\n",
    "0= f'(x_0)x_1 + f(x_0)-f'(x_0)x_0\n",
    "$$\n",
    "$$\n",
    "0=f'(x_0)(x_1-x_0)+f(x_0)\n",
    "$$\n",
    "\n",
    "$$\n",
    "\\therefore \\ x_1= x_0- \\frac{f(x_0)}{f'(x_0)}\n",
    "$$\n",
    "\n",
    "Y consecuentemente, $x_2$ será:\n",
    "$$\n",
    "x_2= x_1- \\frac{f(x_1)}{f'(x_1)}\n",
    "$$\n",
    "\n",
    "$$\n",
    "x_{n+1}= x_n- \\frac{f(x_n)}{f'(x_n)}\n",
    "$$\n"
   ]
  },
  {
   "cell_type": "code",
   "execution_count": 68,
   "metadata": {
    "collapsed": false
   },
   "outputs": [],
   "source": [
    "def mi_newton_1(func,d_func,x_ini,err=1e-9):\n",
    "    n=0\n",
    "    while abs(func(x_ini)) >= err:\n",
    "        print  n,\"\\t\",x_ini\n",
    "        raiz = x_ini - func(x_ini)/d_func(x_ini)\n",
    "        x_ini =  raiz\n",
    "       \n",
    "    return raiz"
   ]
  },
  {
   "cell_type": "code",
   "execution_count": 69,
   "metadata": {
    "collapsed": true
   },
   "outputs": [],
   "source": [
    "def una_funcion(x):\n",
    "    return (x-1)**5\n",
    "\n",
    "def d_una_funcion(x):\n",
    "    return 5*(x-1)**4"
   ]
  },
  {
   "cell_type": "code",
   "execution_count": 70,
   "metadata": {
    "collapsed": false
   },
   "outputs": [
    {
     "name": "stdout",
     "output_type": "stream",
     "text": [
      "0 \t0.1\n",
      "0 \t0.28\n",
      "0 \t0.424\n",
      "0 \t0.5392\n",
      "0 \t0.63136\n",
      "0 \t0.705088\n",
      "0 \t0.7640704\n",
      "0 \t0.81125632\n",
      "0 \t0.849005056\n",
      "0 \t0.8792040448\n",
      "0 \t0.90336323584\n",
      "0 \t0.922690588672\n",
      "0 \t0.938152470938\n",
      "0 \t0.95052197675\n",
      "0 \t0.9604175814\n",
      "0 \t0.96833406512\n",
      "0 \t0.974667252096\n",
      "0 \t0.979733801677\n",
      "0 \t0.983787041341\n",
      "0.987029633073\n"
     ]
    }
   ],
   "source": [
    "print mi_newton_1(una_funcion,d_una_funcion,.1)"
   ]
  },
  {
   "cell_type": "markdown",
   "metadata": {},
   "source": [
    "Ahora le vamos a hacer unas modificaciones al método de bipartición: "
   ]
  },
  {
   "cell_type": "code",
   "execution_count": 71,
   "metadata": {
    "collapsed": false
   },
   "outputs": [],
   "source": [
    "def raiz_bip_mod(func,x_i,x_d,err=1e-8): \n",
    "    raiz = 0.5*(x_i+x_d)\n",
    "    y_i,y_d = func(x_i),func(x_d)\n",
    "    r=0\n",
    "    while abs(y_d) >=err :\n",
    "        y_m = func(raiz)\n",
    "        if y_m == 0 :\n",
    "            print \"Rich sice: chin, le atiné a la raíz\" \n",
    "            break #por si le atina a la raíz... que es raro #PAULOHARÍA\n",
    "        if y_m*y_i < 0:\n",
    "            x_d = raiz\n",
    "        else:\n",
    "            x_i = raiz\n",
    "        raiz = 0.5*(x_i+x_d)\n",
    "        y_i,y_d = func(x_i),func(x_d)\n",
    "        r += 1\n",
    "        print \"paso:\"   ,r,  \"\\t\"  \"raíz:\"  ,raiz\n",
    "        \n",
    "    return raiz"
   ]
  },
  {
   "cell_type": "markdown",
   "metadata": {},
   "source": [
    "Ahora vamos a comparar ambos métodos (Newton y bipartición)"
   ]
  },
  {
   "cell_type": "markdown",
   "metadata": {},
   "source": [
    "#### Método de bipartición"
   ]
  },
  {
   "cell_type": "code",
   "execution_count": 72,
   "metadata": {
    "collapsed": false
   },
   "outputs": [
    {
     "name": "stdout",
     "output_type": "stream",
     "text": [
      "La raíz es: paso: 1 \traíz: 3.0\n",
      "paso: 2 \traíz: 3.5\n",
      "paso: 3 \traíz: 3.25\n",
      "paso: 4 \traíz: 3.125\n",
      "paso: 5 \traíz: 3.1875\n",
      "paso: 6 \traíz: 3.15625\n",
      "paso: 7 \traíz: 3.140625\n",
      "paso: 8 \traíz: 3.1484375\n",
      "paso: 9 \traíz: 3.14453125\n",
      "paso: 10 \traíz: 3.142578125\n",
      "paso: 11 \traíz: 3.1416015625\n",
      "paso: 12 \traíz: 3.14111328125\n",
      "paso: 13 \traíz: 3.14135742188\n",
      "paso: 14 \traíz: 3.14147949219\n",
      "paso: 15 \traíz: 3.14154052734\n",
      "paso: 16 \traíz: 3.14157104492\n",
      "paso: 17 \traíz: 3.14158630371\n",
      "paso: 18 \traíz: 3.14159393311\n",
      "paso: 19 \traíz: 3.14159011841\n",
      "paso: 20 \traíz: 3.14159202576\n",
      "paso: 21 \traíz: 3.14159297943\n",
      "paso: 22 \traíz: 3.14159250259\n",
      "paso: 23 \traíz: 3.14159274101\n",
      "paso: 24 \traíz: 3.1415926218\n",
      "paso: 25 \traíz: 3.14159268141\n",
      "paso: 26 \traíz: 3.14159265161\n",
      "paso: 27 \traíz: 3.14159266651\n",
      "paso: 28 \traíz: 3.14159265906\n",
      "paso: 29 \traíz: 3.14159265533\n",
      "paso: 30 \traíz: 3.14159265347\n",
      "paso: 31 \traíz: 3.1415926544\n",
      "paso: 32 \traíz: 3.14159265393\n",
      "paso: 33 \traíz: 3.1415926537\n",
      "paso: 34 \traíz: 3.14159265358\n",
      "paso: 35 \traíz: 3.14159265364\n",
      "paso: 36 \traíz: 3.14159265361\n",
      "3.14159265361\n"
     ]
    }
   ],
   "source": [
    "print \"La raíz es:\", raiz_bip_mod(sin,0,4,1e-10) "
   ]
  },
  {
   "cell_type": "markdown",
   "metadata": {},
   "source": [
    "#### Método de Newton"
   ]
  },
  {
   "cell_type": "code",
   "execution_count": 73,
   "metadata": {
    "collapsed": false
   },
   "outputs": [
    {
     "name": "stdout",
     "output_type": "stream",
     "text": [
      "La raíz es: 0 \t2\n",
      "0 \t4.18503986326\n",
      "0 \t2.46789367451\n",
      "0 \t3.26618627757\n",
      "0 \t3.14094391232\n",
      "3.14159265368\n"
     ]
    }
   ],
   "source": [
    "print \"La raíz es:\", mi_newton_1(sin,cos,2) "
   ]
  },
  {
   "cell_type": "markdown",
   "metadata": {},
   "source": [
    "Notemos que el método de Newton lo hizo de manera más efectiva... en este caso. "
   ]
  },
  {
   "cell_type": "markdown",
   "metadata": {},
   "source": [
    "## Función de Randy"
   ]
  },
  {
   "cell_type": "code",
   "execution_count": 74,
   "metadata": {
    "collapsed": true
   },
   "outputs": [],
   "source": [
    "def func_randy(x):\n",
    "    return x**2 + tan(sqrt(-8*x + pi))**3\n",
    "\n",
    "def d_func_randy(x):\n",
    "    return 2*x - 12*(tan(sqrt(-8*x + pi))**2 + 1)*tan(sqrt(-8*x + pi))**2/sqrt(-8*x + pi)"
   ]
  },
  {
   "cell_type": "code",
   "execution_count": null,
   "metadata": {
    "collapsed": true
   },
   "outputs": [],
   "source": [
    "x=linspace(-5,0,100)\n",
    "ylim([-30,30])\n",
    "plot(x,func_randy(x))"
   ]
  },
  {
   "cell_type": "markdown",
   "metadata": {},
   "source": [
    "## Cálculo de las raíces con el método de bipartición"
   ]
  },
  {
   "cell_type": "markdown",
   "metadata": {},
   "source": [
    "### Cálculo de la primera raíz"
   ]
  },
  {
   "cell_type": "code",
   "execution_count": 80,
   "metadata": {
    "collapsed": false
   },
   "outputs": [
    {
     "name": "stdout",
     "output_type": "stream",
     "text": [
      "paso: 1 \traíz: -2.75\n",
      "paso: 2 \traíz: -2.875\n",
      "paso: 3 \traíz: -2.9375\n",
      "paso: 4 \traíz: -2.96875\n",
      "-2.96875\n"
     ]
    }
   ],
   "source": [
    "print raiz_bip_mod(func_randy,-3,-2,.8)"
   ]
  },
  {
   "cell_type": "markdown",
   "metadata": {},
   "source": [
    "### Cálculo de la segunda raíz"
   ]
  },
  {
   "cell_type": "code",
   "execution_count": 81,
   "metadata": {
    "collapsed": false
   },
   "outputs": [
    {
     "name": "stdout",
     "output_type": "stream",
     "text": [
      "paso: 1 \traíz: -0.25\n",
      "paso: 2 \traíz: -0.375\n",
      "paso: 3 \traíz: -0.4375\n",
      "-0.4375\n"
     ]
    }
   ],
   "source": [
    "print raiz_bip_mod(func_randy,-1,0,.8)"
   ]
  },
  {
   "cell_type": "markdown",
   "metadata": {},
   "source": [
    "## Cálculo con el método de Newton"
   ]
  },
  {
   "cell_type": "code",
   "execution_count": 82,
   "metadata": {
    "collapsed": false
   },
   "outputs": [
    {
     "name": "stdout",
     "output_type": "stream",
     "text": [
      "0 \t-3\n",
      "0 \t-2.9318062049\n",
      "0 \t-2.94229732506\n",
      "0 \t-2.94267765788\n"
     ]
    },
    {
     "data": {
      "text/plain": [
       "-2.9426781275819383"
      ]
     },
     "execution_count": 82,
     "metadata": {},
     "output_type": "execute_result"
    }
   ],
   "source": [
    "mi_newton_1(func_randy,d_func_randy,-3)"
   ]
  },
  {
   "cell_type": "code",
   "execution_count": 83,
   "metadata": {
    "collapsed": false
   },
   "outputs": [
    {
     "name": "stdout",
     "output_type": "stream",
     "text": [
      "0 \t-1\n",
      "0 \t-0.530746877804\n",
      "0 \t-0.442008460789\n",
      "0 \t-0.455854364862\n",
      "0 \t-0.456489188197\n"
     ]
    },
    {
     "data": {
      "text/plain": [
       "-0.45649040059590051"
      ]
     },
     "execution_count": 83,
     "metadata": {},
     "output_type": "execute_result"
    }
   ],
   "source": [
    "mi_newton_1(func_randy,d_func_randy,-1)"
   ]
  },
  {
   "cell_type": "code",
   "execution_count": 90,
   "metadata": {
    "collapsed": false
   },
   "outputs": [
    {
     "name": "stdout",
     "output_type": "stream",
     "text": [
      "COINCIDEN\n"
     ]
    },
    {
     "data": {
      "image/png": "[encoded data removed]",
      "text/plain": [
       "<matplotlib.figure.Figure at 0x112005590>"
      ]
     },
     "metadata": {},
     "output_type": "display_data"
    }
   ],
   "source": [
    "x=linspace(-5,0,100)\n",
    "ylim([-30,30])\n",
    "plot(x,func_randy(x),'.')\n",
    "plot([-2.96875],[0],'o') #la primera raíz que calculamos bip\n",
    "plot([-0.4375],[0],'o') #la segunda raíz que calculamos bip\n",
    "plot([-2.9426781275819383],[0],'x',markersize=20) #la primera raíz que calculamos newton\n",
    "plot([-0.45649040059590051],[0],'x',markersize=20)\n",
    "grid(True)\n",
    "print \"COINCIDEN\""
   ]
  },
  {
   "cell_type": "code",
   "execution_count": 101,
   "metadata": {
    "collapsed": false
   },
   "outputs": [
    {
     "data": {
      "text/plain": [
       "[<matplotlib.lines.Line2D at 0x112b56310>]"
      ]
     },
     "execution_count": 101,
     "metadata": {},
     "output_type": "execute_result"
    },
    {
     "data": {
      "image/png": "[encoded data removed]",
      "text/plain": [
       "<matplotlib.figure.Figure at 0x11200ce10>"
      ]
     },
     "metadata": {},
     "output_type": "display_data"
    }
   ],
   "source": [
    "x=linspace(-5,5,100)\n",
    "ylim([-5,5])\n",
    "plot([0],[0],'h',markersize=50)\n",
    "plot([0],[2.4],'p',markersize=50)\n",
    "plot([0],[-2.4],'s',markersize=50)"
   ]
  },
  {
   "cell_type": "code",
   "execution_count": null,
   "metadata": {
    "collapsed": true
   },
   "outputs": [],
   "source": []
  }
 ],
 "metadata": {
  "kernelspec": {
   "display_name": "Python [Root]",
   "language": "python",
   "name": "Python [Root]"
  },
  "language_info": {
   "codemirror_mode": {
    "name": "ipython",
    "version": 2
   },
   "file_extension": ".py",
   "mimetype": "text/x-python",
   "name": "python",
   "nbconvert_exporter": "python",
   "pygments_lexer": "ipython2",
   "version": "2.7.12"
  }
 },
 "nbformat": 4,
 "nbformat_minor": 0
}
