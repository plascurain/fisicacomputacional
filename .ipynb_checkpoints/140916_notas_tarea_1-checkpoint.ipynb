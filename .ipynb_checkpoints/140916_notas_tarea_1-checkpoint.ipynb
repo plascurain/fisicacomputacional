{
 "cells": [
  {
   "cell_type": "code",
   "execution_count": 1,
   "metadata": {
    "collapsed": true
   },
   "outputs": [],
   "source": [
    "from pylab import *\n",
    "%matplotlib inline"
   ]
  },
  {
   "cell_type": "markdown",
   "metadata": {},
   "source": [
    "Los argumentos son una cosa que podemos agregar para poner más cosas en una función\n",
    "\n",
    "Vamos a trabajar con RK de cuarto órden"
   ]
  },
  {
   "cell_type": "code",
   "execution_count": 24,
   "metadata": {
    "collapsed": true
   },
   "outputs": [],
   "source": [
    "#Corrección del método de RK de cuarto orden\n",
    "\n",
    "def rk4(ec,p_ini,x,args=0,h=0.01):\n",
    "    if (x[1]-x[0]) <= 5.*h:\n",
    "        h = (x[1]-x[0])/10\n",
    "    tiempos = arange(x[0],x[1]+h,h)\n",
    "    sol = zeros((len(tiempos),len(p_ini)))\n",
    "    sol[0,:] = p_ini\n",
    "    if args==0:\n",
    "        for i in xrange(len(tiempos)-1):\n",
    "            k1 = ec(sol[i,:],tiempos[i])\n",
    "            k2 = ec(sol[i,:]+0.5*h*k1,tiempos[i]+0.5*h)\n",
    "            k3 = ec(sol[i,:]+0.5*h*k2,tiempos[i]+0.5*h)\n",
    "            k4 = ec(sol[i,:]+h*k3,tiempos[i]+h)\n",
    "            sol[i+1,:]=sol[i,:]+(h/6.)*(k1+2*k2+2*k3+k4)\n",
    "    else:\n",
    "        for i in xrange(len(tiempos)-1):\n",
    "            k1 = ec(sol[i,:],tiempos[i],args)\n",
    "            k2 = ec(sol[i,:]+0.5*h*k1,tiempos[i]+0.5*h,args)\n",
    "            k3 = ec(sol[i,:]+0.5*h*k2,tiempos[i]+0.5*h,args)\n",
    "            k4 = ec(sol[i,:]+h*k3,tiempos[i]+h,args)\n",
    "            sol[i+1,:]=sol[i,:]+(h/6.)*(k1+2*k2+2*k3+k4)\n",
    "    return tiempos,sol"
   ]
  },
  {
   "cell_type": "markdown",
   "metadata": {},
   "source": [
    "Vamos a programar las ecuaciones diferenciales que corresponden a una pelota que va cayendo... Estas son: \n",
    "\n",
    "$$\n",
    "m\\ddot{\\vec{a}} = -g \\hat{j} -f\\dot{\\hat{x}}\n",
    "$$\n",
    "\n",
    "con \n",
    "$$ \\dot{\\vec{x}}=u \\\\\\\\\\\\\\\\ \\dot{\\vec{u}}=-\\frac{g}{m} \\hat{j} -\\frac{f}{m}\\hat{u}\n",
    "$$\n",
    "\n",
    "Entonces los modelos de fricción, por ejemplo pueden ser: \n",
    "\n",
    "$$ f_1 \\varpropto \\dot{\\vec{x}} \\\\\\\\\\\\\\\\\\ f_2 \\varpropto  \\vert\\dot{\\vec{x}}\\vert^2 \n",
    "$$\n",
    "\n",
    "Y entonces, las $f's$ serán: \n",
    "\n",
    "$$ f_1 = \\gamma \\vert \\vec{u} \\vert  \\\\\\\\\\\\\\\\\\ f_2 = \\mu \\vert\\vec{u}\\vert^2\n",
    "$$"
   ]
  },
  {
   "cell_type": "code",
   "execution_count": 3,
   "metadata": {
    "collapsed": false
   },
   "outputs": [],
   "source": [
    "def e_mov(r_v,t,fric=0,g=9.8,m=1):\n",
    "    u = sqrt(r_v[2]**2 + r_v[3]**2)\n",
    "    dx = r_v[2] #porque r_v es una lista que trae las condiciones iniviales...r_v=[x,y,vx,vy] y esto se comporta como [0,1,2,3]\n",
    "    dy = r_v[3]\n",
    "    \n",
    "    if fric==0:\n",
    "        dvx,dvy = 0, -(g/m)\n",
    "        #print \"No use un modelo de friccion\"\n",
    "        \n",
    "    else:\n",
    "        dvx = -  fric([r_v[2],r_v[3]])[0] #nuestro modelo de fricción sólo depende de la velocidad \n",
    "        dvy = -(g/m) - fric([r_v[2],r_v[3]])[1]\n",
    "        #print \"Use un modelo de friccion\"\n",
    "    \n",
    "    return array([dx,dy,dvx,dvy])"
   ]
  },
  {
   "cell_type": "markdown",
   "metadata": {},
   "source": [
    "Aquí vamos a definir nuestros modelos de fricción:"
   ]
  },
  {
   "cell_type": "code",
   "execution_count": 5,
   "metadata": {
    "collapsed": false
   },
   "outputs": [],
   "source": [
    "#def fric_id(v): #nos sirve para ver si sí jala como la \"ideal\"\n",
    "  #  return array([0,0])\n",
    "\n",
    "def fric_v(v,gamma=0.1): #proporcional a la velocidad\n",
    "    f_x = gamma*v[0]\n",
    "    f_y = gamma*v[1]\n",
    "    return array([f_x,f_y])\n",
    "\n",
    "def fric_v2(v,gamma=0.1): #proporcional al cuadrado de la verlocidad\n",
    "        norm_v = sqrt(v[0]**2 + v[1]**2)\n",
    "        f_x = gamma*norm_v*v[0]\n",
    "        f_y = gamma*norm_v*v[1]\n",
    "        return array([f_x,f_y])"
   ]
  },
  {
   "cell_type": "markdown",
   "metadata": {},
   "source": [
    "Aquí va a tomar el valor de fric como cero a menos que yo le de otro valor en mis condiciones iniciales :)"
   ]
  },
  {
   "cell_type": "code",
   "execution_count": 6,
   "metadata": {
    "collapsed": false
   },
   "outputs": [
    {
     "name": "stdout",
     "output_type": "stream",
     "text": [
      "[ 1.   1.   0.  -9.8]\n",
      "[ 1.   1.  -0.1 -9.9]\n",
      "[ 1.          1.         -0.14142136 -9.94142136]\n"
     ]
    }
   ],
   "source": [
    "print e_mov([1,1,1,1],1)\n",
    "print e_mov([1,1,1,1],1,fric_v)\n",
    "print e_mov([1,1,1,1],1,fric_v2)"
   ]
  },
  {
   "cell_type": "markdown",
   "metadata": {},
   "source": [
    "Ahora vamos a tratar con otras cosas jeje"
   ]
  },
  {
   "cell_type": "code",
   "execution_count": 7,
   "metadata": {
    "collapsed": false
   },
   "outputs": [
    {
     "data": {
      "image/png": "[encoded data removed]",
      "text/plain": [
       "<matplotlib.figure.Figure at 0x104adbb50>"
      ]
     },
     "metadata": {},
     "output_type": "display_data"
    }
   ],
   "source": [
    "p = [0,0,5,5]\n",
    "t,sol_id=rk4(e_mov,p,[0,1])\n",
    "t,sol_fv=rk4(e_mov,p,[0,1],fric_v)\n",
    "t,sol_fv2=rk4(e_mov,p,[0,1],fric_v2)\n",
    "plot(sol_id[:,0],sol_id[:,1],label=\"Solucion ideal\")\n",
    "plot(sol_fv[:,0],sol_fv[:,1],label=\"dep. de velocidad\")\n",
    "plot(sol_fv2[:,0],sol_fv[:,1],label=\"dep. de cuadrado vel.\")\n",
    "xlim([0,5.5]),ylim([0,2])\n",
    "legend()\n",
    "show()"
   ]
  },
  {
   "cell_type": "markdown",
   "metadata": {},
   "source": [
    "Y nuestro código no depende de nada en esta vida!!!!! que cool"
   ]
  },
  {
   "cell_type": "code",
   "execution_count": 27,
   "metadata": {
    "collapsed": false
   },
   "outputs": [
    {
     "data": {
      "image/png": "[encoded data removed]",
      "text/plain": [
       "<matplotlib.figure.Figure at 0x111511590>"
      ]
     },
     "metadata": {},
     "output_type": "display_data"
    }
   ],
   "source": [
    "inicio = [0,0,5,5]\n",
    "N = 50\n",
    "trayectoria = zeros((N,len(inicio)))\n",
    "mi_dt = .1\n",
    "trayectoria[0,:] = array(inicio)\n",
    "for i in range(N-1):\n",
    "    t,sol_dt = rk4(e_mov,trayectoria[i,:],[0,mi_dt],fric_v)\n",
    "    if sol_dt[-1,:][1] < 0:\n",
    "        #print \"buscando punto de rebote\"\n",
    "        dt_busqueda = mi_dt/2\n",
    "        y_izq = trayectoria[i,:]\n",
    "        t,sol = rk4(e_mov,trayectoria[i,:],[0,dt_busqueda],fric_v)\n",
    "        y_med = sol[-1,:]\n",
    "        #print y_med\n",
    "        while abs(y_izq[1]) > 1e-5:\n",
    "            if y_izq[1]*y_med[1] < 0:\n",
    "                reinicio = y_izq\n",
    "            else:\n",
    "                reinicio = y_med\n",
    "            dt_busqueda = dt_busqueda/2\n",
    "            t,sol = rk4(e_mov,reinicio,[0,dt_busqueda],fric_v)\n",
    "            y_izq = reinicio\n",
    "            y_med = sol[-1,:]\n",
    "        y_izq = array([y_izq[0],y_izq[1],y_izq[2],-y_izq[3]])    \n",
    "        trayectoria[i+1,:] = y_izq\n",
    "    else:\n",
    "        trayectoria[i+1,:] = sol_dt[-1,:]\n",
    "\n",
    "plot(trayectoria[:,0],trayectoria[:,1],'o-')\n",
    "show()"
   ]
  },
  {
   "cell_type": "code",
   "execution_count": 16,
   "metadata": {
    "collapsed": false
   },
   "outputs": [
    {
     "name": "stdout",
     "output_type": "stream",
     "text": [
      "0.486963819865\n",
      "-0.311193109272\n"
     ]
    }
   ],
   "source": [
    "print sol_fv2[80,:][1]\n",
    "print sol_fv2[-1,:][1]"
   ]
  },
  {
   "cell_type": "markdown",
   "metadata": {},
   "source": [
    "Buscando el punto de rebote :) Para esto vamos a necesitar el notebook del raices :)"
   ]
  },
  {
   "cell_type": "code",
   "execution_count": 22,
   "metadata": {
    "collapsed": true
   },
   "outputs": [],
   "source": [
    "def rebote(r_v_i,mi_dt):\n",
    "    dt_busqueda = mi_dt/2\n",
    "    y_izq = r_v_i\n",
    "    t,sol = rk4(e_mov,r_v_i,[0,dt_busqueda],fric_v)\n",
    "    y_med = sol[-1,:]\n",
    "    while abs(y_izq[1]) > 1e-5:\n",
    "        if y_izq[1]*y_med[1] < 0:\n",
    "                reinicio = y_izq\n",
    "        else:\n",
    "            reinicio = y_med\n",
    "        dt_busqueda = dt_busqueda/2\n",
    "        t,sol = rk4(e_mov,reinicio,[0,dt_busqueda],fric_v)\n",
    "        y_izq = reinicio\n",
    "        y_med = sol[-1,:]\n",
    "    y_izq = array([y_izq[0],y_izq[1],y_izq[2],-y_izq[3]])\n",
    "    return y_izq"
   ]
  },
  {
   "cell_type": "markdown",
   "metadata": {},
   "source": []
  },
  {
   "cell_type": "code",
   "execution_count": null,
   "metadata": {
    "collapsed": true
   },
   "outputs": [],
   "source": []
  }
 ],
 "metadata": {
  "anaconda-cloud": {},
  "kernelspec": {
   "display_name": "Python [Root]",
   "language": "python",
   "name": "Python [Root]"
  },
  "language_info": {
   "codemirror_mode": {
    "name": "ipython",
    "version": 2
   },
   "file_extension": ".py",
   "mimetype": "text/x-python",
   "name": "python",
   "nbconvert_exporter": "python",
   "pygments_lexer": "ipython2",
   "version": "2.7.12"
  }
 },
 "nbformat": 4,
 "nbformat_minor": 0
}
