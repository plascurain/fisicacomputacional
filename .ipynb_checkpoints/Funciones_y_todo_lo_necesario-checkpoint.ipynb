{
 "cells": [
  {
   "cell_type": "code",
   "execution_count": 53,
   "metadata": {
    "collapsed": true
   },
   "outputs": [],
   "source": [
    "from pylab import *\n",
    "%matplotlib inline"
   ]
  },
  {
   "cell_type": "markdown",
   "metadata": {},
   "source": [
    "# Problema 1 y 2"
   ]
  },
  {
   "cell_type": "markdown",
   "metadata": {},
   "source": [
    "## Función de raíces por bipartición\n",
    "\n"
   ]
  },
  {
   "cell_type": "code",
   "execution_count": 54,
   "metadata": {
    "collapsed": true
   },
   "outputs": [],
   "source": [
    "def raiz_bip(func,x_izq,x_der, err=1e-5): #(la función, punto ancla izquiero, punto ancla derecho, error)\n",
    "    raiz = 0.5*(x_izq + x_der)\n",
    "    y_izq, y_der = func(x_izq), func(x_der)\n",
    "    n,nmax=0,500\n",
    "    \n",
    "    while abs(y_der) >=err and n <=nmax:\n",
    "        y_medio = func(raiz)\n",
    "        \n",
    "        #Por si le atina a la raíz... (que es algo raro pero puede suceder)\n",
    "        if y_medio == 0 :\n",
    "            print \"Le atiné a la raíz\" \n",
    "            break \n",
    "        \n",
    "        #Si no le atina a la raíz:\n",
    "        if y_medio*y_izq < 0:\n",
    "            x_der = raiz\n",
    "        else:\n",
    "            x_izq = raiz\n",
    "        \n",
    "        raiz = 0.5*(x_izq+x_der)\n",
    "        y_izq,y_der = func(x_izq),func(x_der)\n",
    "        n += 1 #Contador\n",
    "        \n",
    "    if n >= nmax or abs(func(raiz)) > err:\n",
    "        return False #\"No hay raiz en este intervalo\"\n",
    "    else:\n",
    "        return raiz"
   ]
  },
  {
   "cell_type": "code",
   "execution_count": 55,
   "metadata": {
    "collapsed": false
   },
   "outputs": [],
   "source": [
    "def todas_raices(funcion, intervalo, n , tol = 1e-6):\n",
    "    x = linspace(intervalo[0],intervalo[1],n)\n",
    "    raices = []\n",
    "    \n",
    "    for i in range(len(x)-1):\n",
    "        sol=raiz_bip(funcion, x[i], x[i+1],tol)\n",
    "        if sol != False:\n",
    "            raices.append(sol)\n",
    "        \n",
    "    return raices\n",
    "        "
   ]
  },
  {
   "cell_type": "markdown",
   "metadata": {},
   "source": [
    "## Función de Luis Yves\n",
    "\n"
   ]
  },
  {
   "cell_type": "code",
   "execution_count": 56,
   "metadata": {
    "collapsed": true
   },
   "outputs": [],
   "source": [
    "def raices_luis(funcion, intervalo, N , err = 1e-5):\n",
    "    \n",
    "    #Intervalo en el que vamos a buscar las raices; intervalo es un array de dos entradas \n",
    "    x = linspace(intervalo[0], intervalo[1], N)\n",
    "    #En la variable \"raices\" se van a almacenar todos los valores\n",
    "    Raices = []\n",
    "\n",
    "    while len(x):\n",
    "        positivos = find(funcion(x)>0) \n",
    "        negativos = find(funcion(x)<0)\n",
    "           \n",
    "        if len(positivos) == 0 or len(negativos) == 0: \n",
    "            break # Quiere decir que la función es totalmente negativa o positiva (respectivamente)\n",
    "            \n",
    "        inicio = max(positivos[0], negativos[0])\n",
    "        \n",
    "        #haciendo uso de la funcion para calcular raices que ya tenemos\n",
    "        raiz = raiz_bip(funcion,x[inicio-1], x[inicio], err) \n",
    "        if raiz != False:\n",
    "            Raices += [raiz]\n",
    "        x = x[inicio:] #paso mágico quita basura de Luis \"Yvestruz\" Yves \n",
    "    return Raices"
   ]
  },
  {
   "cell_type": "code",
   "execution_count": null,
   "metadata": {
    "collapsed": true
   },
   "outputs": [],
   "source": []
  },
  {
   "cell_type": "code",
   "execution_count": null,
   "metadata": {
    "collapsed": true
   },
   "outputs": [],
   "source": []
  },
  {
   "cell_type": "code",
   "execution_count": null,
   "metadata": {
    "collapsed": true
   },
   "outputs": [],
   "source": []
  }
 ],
 "metadata": {
  "anaconda-cloud": {},
  "kernelspec": {
   "display_name": "Python [Root]",
   "language": "python",
   "name": "Python [Root]"
  },
  "language_info": {
   "codemirror_mode": {
    "name": "ipython",
    "version": 2
   },
   "file_extension": ".py",
   "mimetype": "text/x-python",
   "name": "python",
   "nbconvert_exporter": "python",
   "pygments_lexer": "ipython2",
   "version": "2.7.12"
  }
 },
 "nbformat": 4,
 "nbformat_minor": 0
}
