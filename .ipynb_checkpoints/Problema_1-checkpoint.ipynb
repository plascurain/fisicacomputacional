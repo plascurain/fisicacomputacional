{
 "cells": [
  {
   "cell_type": "code",
   "execution_count": 129,
   "metadata": {
    "collapsed": true
   },
   "outputs": [],
   "source": [
    "from pylab import *\n",
    "%matplotlib inline"
   ]
  },
  {
   "cell_type": "markdown",
   "metadata": {},
   "source": [
    "# Problema 1\n",
    "\n",
    "Primero vamos a definir una función con el método de bipartición para encontrar las raíces"
   ]
  },
  {
   "cell_type": "code",
   "execution_count": 81,
   "metadata": {
    "collapsed": true
   },
   "outputs": [],
   "source": [
    "def raiz_bip(func,x_izq,x_der, err=1e-5): #(la función, punto ancla izquiero, punto ancla derecho, error)\n",
    "    raiz = 0.5*(x_izq + x_der)\n",
    "    y_izq, y_der = func(x_izq), func(x_der)\n",
    "    n,nmax=0,500\n",
    "    \n",
    "    while abs(y_der) >=err and n <=nmax:\n",
    "        y_medio = func(raiz)\n",
    "        \n",
    "        #Por si le atina a la raíz... (que es algo raro pero puede suceder)\n",
    "        if y_medio == 0 :\n",
    "            print \"Le atiné a la raíz\" \n",
    "            break \n",
    "        \n",
    "        #Si no le atina a la raíz:\n",
    "        if y_medio*y_izq < 0:\n",
    "            x_der = raiz\n",
    "        else:\n",
    "            x_izq = raiz\n",
    "        \n",
    "        raiz = 0.5*(x_izq+x_der)\n",
    "        y_izq,y_der = func(x_izq),func(x_der)\n",
    "        n += 1 #Contador\n",
    "        \n",
    "    if n >= nmax or abs(func(raiz)) > err:\n",
    "        return False #\"No hay raiz en este intervalo\"\n",
    "    else:\n",
    "        return raiz"
   ]
  },
  {
   "cell_type": "markdown",
   "metadata": {},
   "source": [
    "La función de prueba que vamos a utilizar es: \n",
    "\n",
    "$$ y(x) = cos(x) + \\frac{6}{5} sin(x^2) $$ \n",
    "\n",
    "En el intervalo $[0,2\\pi]$"
   ]
  },
  {
   "cell_type": "code",
   "execution_count": 193,
   "metadata": {
    "collapsed": true
   },
   "outputs": [],
   "source": [
    "def func_p1(x):\n",
    "    return cos(x) + (6./5.)*sin(x**2)\n"
   ]
  },
  {
   "cell_type": "markdown",
   "metadata": {},
   "source": [
    "Ahora vamos a plotear nuestra función 'nomás' para ver por dónde andan los ceros y darnos una idea"
   ]
  },
  {
   "cell_type": "code",
   "execution_count": 128,
   "metadata": {
    "collapsed": false
   },
   "outputs": [
    {
     "data": {
      "image/png": "[encoded data removed]",
      "text/plain": [
       "<matplotlib.figure.Figure at 0x10ed99f10>"
      ]
     },
     "metadata": {},
     "output_type": "display_data"
    }
   ],
   "source": [
    "x=linspace(0,2*pi,200)\n",
    "plot(x,func_p1(x))\n",
    "grid(True)\n",
    "show() "
   ]
  },
  {
   "cell_type": "markdown",
   "metadata": {},
   "source": [
    "Prueba para ver si nuestro método funciona: \n",
    "Vamos a buscar la raíz entre los intervalos: \n",
    "\n",
    "a) [0,1] (donde el resultado debe de ser \"No hay raíz en este intervalo\")\n",
    "\n",
    "b) [2,3] (debería encontrar dos raíz entonces va a regresar error)\n",
    "\n",
    "c) [4,4.5] (va a marcar que existe una raíz y ya )"
   ]
  },
  {
   "cell_type": "code",
   "execution_count": 64,
   "metadata": {
    "collapsed": false
   },
   "outputs": [
    {
     "data": {
      "text/plain": [
       "'No hay raiz en este intervalo'"
      ]
     },
     "execution_count": 64,
     "metadata": {},
     "output_type": "execute_result"
    }
   ],
   "source": [
    "raiz_bip(func_p1,0,1)"
   ]
  },
  {
   "cell_type": "code",
   "execution_count": 69,
   "metadata": {
    "collapsed": false
   },
   "outputs": [
    {
     "data": {
      "text/plain": [
       "'No hay raiz en este intervalo'"
      ]
     },
     "execution_count": 69,
     "metadata": {},
     "output_type": "execute_result"
    }
   ],
   "source": [
    "raiz_bip(func_p1,2,3) #nota: no es que no exista la raíz... de hecho existen dos y entonces marca un error"
   ]
  },
  {
   "cell_type": "code",
   "execution_count": 68,
   "metadata": {
    "collapsed": false
   },
   "outputs": [
    {
     "data": {
      "text/plain": [
       "4.373787879943848"
      ]
     },
     "execution_count": 68,
     "metadata": {},
     "output_type": "execute_result"
    }
   ],
   "source": [
    "raiz_bip(func_p1,4,4.5)"
   ]
  },
  {
   "cell_type": "markdown",
   "metadata": {},
   "source": [
    "Ahora, el problema es que esta fución es bastante quisquillosa, porque sólo nos da la raíz si le atinamos al intervalo en donde hay a lo mas una raíz... entonces claramente no nos vamos a poner a manualmente calcular cada una de las raíces. Entonces necesitamos una función que calcule cada una de las raíces y cuando encuentre una, la guarde en un array de raíces para que luego estén todas juntitas  y acomodadas. \n",
    "\n",
    "\\footnote{La idea original de la función \"raices_completo\" es de Luis Yves}"
   ]
  },
  {
   "cell_type": "code",
   "execution_count": 161,
   "metadata": {
    "collapsed": true
   },
   "outputs": [],
   "source": [
    "def raices_completo(funcion, intervalo, N , err = 1e-5):\n",
    "    \n",
    "    #Intervalo en el que vamos a buscar las raices; intervalo es un array de dos entradas \n",
    "    x = linspace(intervalo[0], intervalo[1], N)\n",
    "    #En la variable \"raices\" se van a almacenar todos los valores\n",
    "    Raices = []\n",
    "\n",
    "    while len(x):\n",
    "        positivos = find(funcion(x)>0) \n",
    "        negativos = find(funcion(x)<0)\n",
    "           \n",
    "        if len(positivos) == 0 or len(negativos) == 0: \n",
    "            break # Quiere decir que la función es totalmente negativa o positiva (respectivamente)\n",
    "            \n",
    "        inicio = max(positivos[0], negativos[0])\n",
    "        \n",
    "        #haciendo uso de la funcion para calcular raices que ya tenemos\n",
    "        raiz = raiz_bip(funcion,x[inicio-1], x[inicio], err) \n",
    "        if raiz != False:\n",
    "            Raices += [raiz]\n",
    "        x = x[inicio:] #paso mágico quita basura de Luis \"Yvestruz\" Yves \n",
    "    return Raices"
   ]
  },
  {
   "cell_type": "code",
   "execution_count": 192,
   "metadata": {
    "collapsed": false
   },
   "outputs": [
    {
     "name": "stdout",
     "output_type": "stream",
     "text": [
      "los valores de las raices son:\n",
      "[1.7337702228384908, 2.6680907484668843, 2.9117364243497681, 3.6574890855376969, 3.8785167350233234, 4.3737882556868737, 4.6872368023089521, 4.9902057163625368, 5.5454007704422965, 6.0621542852487602]\n"
     ]
    },
    {
     "data": {
      "image/png": "[encoded data removed]",
      "text/plain": [
       "<matplotlib.figure.Figure at 0x1137a1250>"
      ]
     },
     "metadata": {},
     "output_type": "display_data"
    }
   ],
   "source": [
    "intervalo = [0., 2*pi]\n",
    "print \"los valores de las raices son:\"\n",
    "n = 200 \n",
    "raices = raices_completo(func_p1,intervalo,n)\n",
    "print raices\n",
    "x = linspace(0, 2*pi, 200)\n",
    "figure(figsize=(15,5))\n",
    "plot(x, func_p1(x))\n",
    "plot(raices, zeros_like(raices), 'ro')\n",
    "grid()\n",
    "show()"
   ]
  },
  {
   "cell_type": "code",
   "execution_count": null,
   "metadata": {
    "collapsed": true
   },
   "outputs": [],
   "source": []
  }
 ],
 "metadata": {
  "anaconda-cloud": {},
  "kernelspec": {
   "display_name": "Python [Root]",
   "language": "python",
   "name": "Python [Root]"
  },
  "language_info": {
   "codemirror_mode": {
    "name": "ipython",
    "version": 2
   },
   "file_extension": ".py",
   "mimetype": "text/x-python",
   "name": "python",
   "nbconvert_exporter": "python",
   "pygments_lexer": "ipython2",
   "version": "2.7.12"
  }
 },
 "nbformat": 4,
 "nbformat_minor": 0
}
